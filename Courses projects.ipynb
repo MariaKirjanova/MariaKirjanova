{
 "cells": [
  {
   "cell_type": "markdown",
   "metadata": {},
   "source": [
    "#### Минипроект 1\n",
    "1. Соберите все данные из папки data в один датафрэйм, имеющий следующие столбцы: колонки из самих файлов (product_id, quantity), а также имя пользователя (name), и дата этих покупок (date, соответствует названию папки, где лежит папка с пользователем)\n",
    "2. Выясните, какой пользователь купил больше всего товаров. Если их несколько, то перечислите имена через запятую с пробелом и в алфавитном порядке.\n",
    "3. Найдите топ-10 товаров по числу проданных единиц за всё время и постройте барплот. Сколько было продано единиц товара с product_id==56?\n",
    "4. Визуализируйте продажи по дням.\n",
    "5. Сколько пользователей приобрели какой-либо товар повторно (более 1 раза)? Повтором будем считать покупку товара с одинаковым product_id, совершенную в разные дни. "
   ]
  },
  {
   "cell_type": "code",
   "execution_count": 20,
   "metadata": {},
   "outputs": [],
   "source": [
    "import os\n",
    "from pathlib import *\n",
    "import pandas as pd\n",
    "import numpy as np\n",
    "import datetime as dt\n",
    "import matplotlib.pyplot as plt\n",
    "import seaborn as sns\n",
    "%matplotlib inline"
   ]
  },
  {
   "cell_type": "code",
   "execution_count": 24,
   "metadata": {},
   "outputs": [],
   "source": [
    "folder_data = [i for i in os.listdir('/home/jupyter-m.kirjanova-8/shared/homeworks/python_ds_miniprojects/4/data') if not i.startswith('.')]"
   ]
  },
  {
   "cell_type": "code",
   "execution_count": 25,
   "metadata": {},
   "outputs": [
    {
     "data": {
      "text/plain": [
       "['2020-12-05',\n",
       " '2020-12-08',\n",
       " '2020-12-09',\n",
       " '2020-12-04',\n",
       " '2020-12-06',\n",
       " '2020-12-03',\n",
       " '2020-12-07']"
      ]
     },
     "execution_count": 25,
     "metadata": {},
     "output_type": "execute_result"
    }
   ],
   "source": [
    "folder_data"
   ]
  },
  {
   "cell_type": "code",
   "execution_count": 9,
   "metadata": {},
   "outputs": [
    {
     "name": "stdout",
     "output_type": "stream",
     "text": [
      "/home/jupyter-m.kirjanova-8/shared/homeworks/python_ds_miniprojects/4/data/ ['2020-12-05', '2020-12-08', '2020-12-09', '2020-12-04', '2020-12-06', '2020-12-03', '2020-12-07'] []\n",
      "/home/jupyter-m.kirjanova-8/shared/homeworks/python_ds_miniprojects/4/data/2020-12-05 ['Petr_Ivanov', 'Petr_Smirnov', 'Rostislav_Smirnov', 'Kirill_Smirnov', 'Alexey_Fedorov', 'Alexey_Petrov'] []\n",
      "/home/jupyter-m.kirjanova-8/shared/homeworks/python_ds_miniprojects/4/data/2020-12-05/Petr_Ivanov [] ['data.csv']\n",
      "/home/jupyter-m.kirjanova-8/shared/homeworks/python_ds_miniprojects/4/data/2020-12-05/Petr_Smirnov [] ['data.csv']\n",
      "/home/jupyter-m.kirjanova-8/shared/homeworks/python_ds_miniprojects/4/data/2020-12-05/Rostislav_Smirnov [] ['data.csv']\n",
      "/home/jupyter-m.kirjanova-8/shared/homeworks/python_ds_miniprojects/4/data/2020-12-05/Kirill_Smirnov [] ['data.csv']\n",
      "/home/jupyter-m.kirjanova-8/shared/homeworks/python_ds_miniprojects/4/data/2020-12-05/Alexey_Fedorov [] ['data.csv']\n",
      "/home/jupyter-m.kirjanova-8/shared/homeworks/python_ds_miniprojects/4/data/2020-12-05/Alexey_Petrov [] ['data.csv']\n",
      "/home/jupyter-m.kirjanova-8/shared/homeworks/python_ds_miniprojects/4/data/2020-12-08 ['Petr_Petrov', 'Rostislav_Petrov', 'Kirill_Smirnov', 'Alexey_Fedorov', 'Anton_Smirnov'] []\n",
      "/home/jupyter-m.kirjanova-8/shared/homeworks/python_ds_miniprojects/4/data/2020-12-08/Petr_Petrov [] ['data.csv']\n",
      "/home/jupyter-m.kirjanova-8/shared/homeworks/python_ds_miniprojects/4/data/2020-12-08/Rostislav_Petrov [] ['data.csv']\n",
      "/home/jupyter-m.kirjanova-8/shared/homeworks/python_ds_miniprojects/4/data/2020-12-08/Kirill_Smirnov [] ['data.csv']\n",
      "/home/jupyter-m.kirjanova-8/shared/homeworks/python_ds_miniprojects/4/data/2020-12-08/Alexey_Fedorov [] ['data.csv']\n",
      "/home/jupyter-m.kirjanova-8/shared/homeworks/python_ds_miniprojects/4/data/2020-12-08/Anton_Smirnov [] ['data.csv']\n",
      "/home/jupyter-m.kirjanova-8/shared/homeworks/python_ds_miniprojects/4/data/2020-12-09 ['Alexey_Smirnov', 'Anton_Petrov', 'Rostislav_Petrov', 'Anton_Smirnov', 'Anton_Ivanov', 'Petr_Fedorov', 'Vasiliy_Ivanov'] []\n",
      "/home/jupyter-m.kirjanova-8/shared/homeworks/python_ds_miniprojects/4/data/2020-12-09/Alexey_Smirnov [] ['data.csv']\n",
      "/home/jupyter-m.kirjanova-8/shared/homeworks/python_ds_miniprojects/4/data/2020-12-09/Anton_Petrov [] ['data.csv']\n",
      "/home/jupyter-m.kirjanova-8/shared/homeworks/python_ds_miniprojects/4/data/2020-12-09/Rostislav_Petrov [] ['data.csv']\n",
      "/home/jupyter-m.kirjanova-8/shared/homeworks/python_ds_miniprojects/4/data/2020-12-09/Anton_Smirnov [] ['data.csv']\n",
      "/home/jupyter-m.kirjanova-8/shared/homeworks/python_ds_miniprojects/4/data/2020-12-09/Anton_Ivanov [] ['data.csv']\n",
      "/home/jupyter-m.kirjanova-8/shared/homeworks/python_ds_miniprojects/4/data/2020-12-09/Petr_Fedorov [] ['data.csv']\n",
      "/home/jupyter-m.kirjanova-8/shared/homeworks/python_ds_miniprojects/4/data/2020-12-09/Vasiliy_Ivanov [] ['data.csv']\n",
      "/home/jupyter-m.kirjanova-8/shared/homeworks/python_ds_miniprojects/4/data/2020-12-04 ['Kirill_Fedorov', 'Alexey_Smirnov', 'Rostislav_Ivanov', 'Petr_Ivanov', 'Rostislav_Fedorov', 'Petr_Smirnov', 'Rostislav_Smirnov', 'Petr_Fedorov', 'Vasiliy_Ivanov'] []\n",
      "/home/jupyter-m.kirjanova-8/shared/homeworks/python_ds_miniprojects/4/data/2020-12-04/Kirill_Fedorov [] ['data.csv']\n",
      "/home/jupyter-m.kirjanova-8/shared/homeworks/python_ds_miniprojects/4/data/2020-12-04/Alexey_Smirnov [] ['data.csv']\n",
      "/home/jupyter-m.kirjanova-8/shared/homeworks/python_ds_miniprojects/4/data/2020-12-04/Rostislav_Ivanov [] ['data.csv']\n",
      "/home/jupyter-m.kirjanova-8/shared/homeworks/python_ds_miniprojects/4/data/2020-12-04/Petr_Ivanov [] ['data.csv']\n",
      "/home/jupyter-m.kirjanova-8/shared/homeworks/python_ds_miniprojects/4/data/2020-12-04/Rostislav_Fedorov [] ['data.csv']\n",
      "/home/jupyter-m.kirjanova-8/shared/homeworks/python_ds_miniprojects/4/data/2020-12-04/Petr_Smirnov [] ['data.csv']\n",
      "/home/jupyter-m.kirjanova-8/shared/homeworks/python_ds_miniprojects/4/data/2020-12-04/Rostislav_Smirnov [] ['data.csv']\n",
      "/home/jupyter-m.kirjanova-8/shared/homeworks/python_ds_miniprojects/4/data/2020-12-04/Petr_Fedorov [] ['data.csv']\n",
      "/home/jupyter-m.kirjanova-8/shared/homeworks/python_ds_miniprojects/4/data/2020-12-04/Vasiliy_Ivanov [] ['data.csv']\n",
      "/home/jupyter-m.kirjanova-8/shared/homeworks/python_ds_miniprojects/4/data/2020-12-06 ['Vasiliy_Fedorov'] []\n",
      "/home/jupyter-m.kirjanova-8/shared/homeworks/python_ds_miniprojects/4/data/2020-12-06/Vasiliy_Fedorov [] ['data.csv']\n",
      "/home/jupyter-m.kirjanova-8/shared/homeworks/python_ds_miniprojects/4/data/2020-12-03 ['Alexey_Smirnov', 'Anton_Petrov', 'Vasiliy_Petrov', 'Kirill_Petrov', 'Petr_Fedorov', 'Vasiliy_Ivanov'] []\n",
      "/home/jupyter-m.kirjanova-8/shared/homeworks/python_ds_miniprojects/4/data/2020-12-03/Alexey_Smirnov [] ['data.csv']\n",
      "/home/jupyter-m.kirjanova-8/shared/homeworks/python_ds_miniprojects/4/data/2020-12-03/Anton_Petrov [] ['data.csv']\n",
      "/home/jupyter-m.kirjanova-8/shared/homeworks/python_ds_miniprojects/4/data/2020-12-03/Vasiliy_Petrov [] ['data.csv']\n",
      "/home/jupyter-m.kirjanova-8/shared/homeworks/python_ds_miniprojects/4/data/2020-12-03/Kirill_Petrov [] ['data.csv']\n",
      "/home/jupyter-m.kirjanova-8/shared/homeworks/python_ds_miniprojects/4/data/2020-12-03/Petr_Fedorov [] ['data.csv']\n",
      "/home/jupyter-m.kirjanova-8/shared/homeworks/python_ds_miniprojects/4/data/2020-12-03/Vasiliy_Ivanov [] ['data.csv']\n",
      "/home/jupyter-m.kirjanova-8/shared/homeworks/python_ds_miniprojects/4/data/2020-12-07 ['Kirill_Fedorov', 'Alexey_Smirnov', 'Rostislav_Fedorov', 'Alexey_Ivanov', 'Petr_Smirnov', 'Alexey_Fedorov', 'Anton_Smirnov', 'Anton_Ivanov', 'Petr_Fedorov', 'Vasiliy_Ivanov'] []\n",
      "/home/jupyter-m.kirjanova-8/shared/homeworks/python_ds_miniprojects/4/data/2020-12-07/Kirill_Fedorov [] ['data.csv']\n",
      "/home/jupyter-m.kirjanova-8/shared/homeworks/python_ds_miniprojects/4/data/2020-12-07/Alexey_Smirnov [] ['data.csv']\n",
      "/home/jupyter-m.kirjanova-8/shared/homeworks/python_ds_miniprojects/4/data/2020-12-07/Rostislav_Fedorov [] ['data.csv']\n",
      "/home/jupyter-m.kirjanova-8/shared/homeworks/python_ds_miniprojects/4/data/2020-12-07/Alexey_Ivanov [] ['data.csv']\n",
      "/home/jupyter-m.kirjanova-8/shared/homeworks/python_ds_miniprojects/4/data/2020-12-07/Petr_Smirnov [] ['data.csv']\n",
      "/home/jupyter-m.kirjanova-8/shared/homeworks/python_ds_miniprojects/4/data/2020-12-07/Alexey_Fedorov [] ['data.csv']\n",
      "/home/jupyter-m.kirjanova-8/shared/homeworks/python_ds_miniprojects/4/data/2020-12-07/Anton_Smirnov [] ['data.csv']\n",
      "/home/jupyter-m.kirjanova-8/shared/homeworks/python_ds_miniprojects/4/data/2020-12-07/Anton_Ivanov [] ['data.csv']\n",
      "/home/jupyter-m.kirjanova-8/shared/homeworks/python_ds_miniprojects/4/data/2020-12-07/Petr_Fedorov [] ['data.csv']\n",
      "/home/jupyter-m.kirjanova-8/shared/homeworks/python_ds_miniprojects/4/data/2020-12-07/Vasiliy_Ivanov [] ['data.csv']\n"
     ]
    }
   ],
   "source": [
    "for path, dirs, files in os.walk('/home/jupyter-m.kirjanova-8/shared/homeworks/python_ds_miniprojects/4/data/'):\n",
    "    print(path, dirs, files)"
   ]
  },
  {
   "cell_type": "code",
   "execution_count": 12,
   "metadata": {},
   "outputs": [
    {
     "data": {
      "text/plain": [
       "'/home/jupyter-m.kirjanova-8/shared/homeworks/python_ds_miniprojects/4/data/2020-12-07/Vasiliy_Ivanov'"
      ]
     },
     "execution_count": 12,
     "metadata": {},
     "output_type": "execute_result"
    }
   ],
   "source": [
    "os.path.expanduser(path)"
   ]
  },
  {
   "cell_type": "code",
   "execution_count": 19,
   "metadata": {},
   "outputs": [
    {
     "data": {
      "text/plain": [
       "'data.csv'"
      ]
     },
     "execution_count": 19,
     "metadata": {},
     "output_type": "execute_result"
    }
   ],
   "source": [
    "os.listdir(path)[0]"
   ]
  },
  {
   "cell_type": "code",
   "execution_count": 26,
   "metadata": {},
   "outputs": [],
   "source": [
    "path0 = '/home/jupyter-m.kirjanova-8/shared/homeworks/python_ds_miniprojects/4/data'"
   ]
  },
  {
   "cell_type": "code",
   "execution_count": 37,
   "metadata": {},
   "outputs": [
    {
     "data": {
      "text/plain": [
       "[('/home/jupyter-m.kirjanova-8/shared/homeworks/python_ds_miniprojects/4/data',\n",
       "  ['2020-12-05',\n",
       "   '2020-12-08',\n",
       "   '2020-12-09',\n",
       "   '2020-12-04',\n",
       "   '2020-12-06',\n",
       "   '2020-12-03',\n",
       "   '2020-12-07'],\n",
       "  []),\n",
       " ('/home/jupyter-m.kirjanova-8/shared/homeworks/python_ds_miniprojects/4/data/2020-12-05',\n",
       "  ['Petr_Ivanov',\n",
       "   'Petr_Smirnov',\n",
       "   'Rostislav_Smirnov',\n",
       "   'Kirill_Smirnov',\n",
       "   'Alexey_Fedorov',\n",
       "   'Alexey_Petrov'],\n",
       "  []),\n",
       " ('/home/jupyter-m.kirjanova-8/shared/homeworks/python_ds_miniprojects/4/data/2020-12-05/Petr_Ivanov',\n",
       "  [],\n",
       "  ['data.csv']),\n",
       " ('/home/jupyter-m.kirjanova-8/shared/homeworks/python_ds_miniprojects/4/data/2020-12-05/Petr_Smirnov',\n",
       "  [],\n",
       "  ['data.csv']),\n",
       " ('/home/jupyter-m.kirjanova-8/shared/homeworks/python_ds_miniprojects/4/data/2020-12-05/Rostislav_Smirnov',\n",
       "  [],\n",
       "  ['data.csv']),\n",
       " ('/home/jupyter-m.kirjanova-8/shared/homeworks/python_ds_miniprojects/4/data/2020-12-05/Kirill_Smirnov',\n",
       "  [],\n",
       "  ['data.csv']),\n",
       " ('/home/jupyter-m.kirjanova-8/shared/homeworks/python_ds_miniprojects/4/data/2020-12-05/Alexey_Fedorov',\n",
       "  [],\n",
       "  ['data.csv']),\n",
       " ('/home/jupyter-m.kirjanova-8/shared/homeworks/python_ds_miniprojects/4/data/2020-12-05/Alexey_Petrov',\n",
       "  [],\n",
       "  ['data.csv']),\n",
       " ('/home/jupyter-m.kirjanova-8/shared/homeworks/python_ds_miniprojects/4/data/2020-12-08',\n",
       "  ['Petr_Petrov',\n",
       "   'Rostislav_Petrov',\n",
       "   'Kirill_Smirnov',\n",
       "   'Alexey_Fedorov',\n",
       "   'Anton_Smirnov'],\n",
       "  []),\n",
       " ('/home/jupyter-m.kirjanova-8/shared/homeworks/python_ds_miniprojects/4/data/2020-12-08/Petr_Petrov',\n",
       "  [],\n",
       "  ['data.csv']),\n",
       " ('/home/jupyter-m.kirjanova-8/shared/homeworks/python_ds_miniprojects/4/data/2020-12-08/Rostislav_Petrov',\n",
       "  [],\n",
       "  ['data.csv']),\n",
       " ('/home/jupyter-m.kirjanova-8/shared/homeworks/python_ds_miniprojects/4/data/2020-12-08/Kirill_Smirnov',\n",
       "  [],\n",
       "  ['data.csv']),\n",
       " ('/home/jupyter-m.kirjanova-8/shared/homeworks/python_ds_miniprojects/4/data/2020-12-08/Alexey_Fedorov',\n",
       "  [],\n",
       "  ['data.csv']),\n",
       " ('/home/jupyter-m.kirjanova-8/shared/homeworks/python_ds_miniprojects/4/data/2020-12-08/Anton_Smirnov',\n",
       "  [],\n",
       "  ['data.csv']),\n",
       " ('/home/jupyter-m.kirjanova-8/shared/homeworks/python_ds_miniprojects/4/data/2020-12-09',\n",
       "  ['Alexey_Smirnov',\n",
       "   'Anton_Petrov',\n",
       "   'Rostislav_Petrov',\n",
       "   'Anton_Smirnov',\n",
       "   'Anton_Ivanov',\n",
       "   'Petr_Fedorov',\n",
       "   'Vasiliy_Ivanov'],\n",
       "  []),\n",
       " ('/home/jupyter-m.kirjanova-8/shared/homeworks/python_ds_miniprojects/4/data/2020-12-09/Alexey_Smirnov',\n",
       "  [],\n",
       "  ['data.csv']),\n",
       " ('/home/jupyter-m.kirjanova-8/shared/homeworks/python_ds_miniprojects/4/data/2020-12-09/Anton_Petrov',\n",
       "  [],\n",
       "  ['data.csv']),\n",
       " ('/home/jupyter-m.kirjanova-8/shared/homeworks/python_ds_miniprojects/4/data/2020-12-09/Rostislav_Petrov',\n",
       "  [],\n",
       "  ['data.csv']),\n",
       " ('/home/jupyter-m.kirjanova-8/shared/homeworks/python_ds_miniprojects/4/data/2020-12-09/Anton_Smirnov',\n",
       "  [],\n",
       "  ['data.csv']),\n",
       " ('/home/jupyter-m.kirjanova-8/shared/homeworks/python_ds_miniprojects/4/data/2020-12-09/Anton_Ivanov',\n",
       "  [],\n",
       "  ['data.csv']),\n",
       " ('/home/jupyter-m.kirjanova-8/shared/homeworks/python_ds_miniprojects/4/data/2020-12-09/Petr_Fedorov',\n",
       "  [],\n",
       "  ['data.csv']),\n",
       " ('/home/jupyter-m.kirjanova-8/shared/homeworks/python_ds_miniprojects/4/data/2020-12-09/Vasiliy_Ivanov',\n",
       "  [],\n",
       "  ['data.csv']),\n",
       " ('/home/jupyter-m.kirjanova-8/shared/homeworks/python_ds_miniprojects/4/data/2020-12-04',\n",
       "  ['Kirill_Fedorov',\n",
       "   'Alexey_Smirnov',\n",
       "   'Rostislav_Ivanov',\n",
       "   'Petr_Ivanov',\n",
       "   'Rostislav_Fedorov',\n",
       "   'Petr_Smirnov',\n",
       "   'Rostislav_Smirnov',\n",
       "   'Petr_Fedorov',\n",
       "   'Vasiliy_Ivanov'],\n",
       "  []),\n",
       " ('/home/jupyter-m.kirjanova-8/shared/homeworks/python_ds_miniprojects/4/data/2020-12-04/Kirill_Fedorov',\n",
       "  [],\n",
       "  ['data.csv']),\n",
       " ('/home/jupyter-m.kirjanova-8/shared/homeworks/python_ds_miniprojects/4/data/2020-12-04/Alexey_Smirnov',\n",
       "  [],\n",
       "  ['data.csv']),\n",
       " ('/home/jupyter-m.kirjanova-8/shared/homeworks/python_ds_miniprojects/4/data/2020-12-04/Rostislav_Ivanov',\n",
       "  [],\n",
       "  ['data.csv']),\n",
       " ('/home/jupyter-m.kirjanova-8/shared/homeworks/python_ds_miniprojects/4/data/2020-12-04/Petr_Ivanov',\n",
       "  [],\n",
       "  ['data.csv']),\n",
       " ('/home/jupyter-m.kirjanova-8/shared/homeworks/python_ds_miniprojects/4/data/2020-12-04/Rostislav_Fedorov',\n",
       "  [],\n",
       "  ['data.csv']),\n",
       " ('/home/jupyter-m.kirjanova-8/shared/homeworks/python_ds_miniprojects/4/data/2020-12-04/Petr_Smirnov',\n",
       "  [],\n",
       "  ['data.csv']),\n",
       " ('/home/jupyter-m.kirjanova-8/shared/homeworks/python_ds_miniprojects/4/data/2020-12-04/Rostislav_Smirnov',\n",
       "  [],\n",
       "  ['data.csv']),\n",
       " ('/home/jupyter-m.kirjanova-8/shared/homeworks/python_ds_miniprojects/4/data/2020-12-04/Petr_Fedorov',\n",
       "  [],\n",
       "  ['data.csv']),\n",
       " ('/home/jupyter-m.kirjanova-8/shared/homeworks/python_ds_miniprojects/4/data/2020-12-04/Vasiliy_Ivanov',\n",
       "  [],\n",
       "  ['data.csv']),\n",
       " ('/home/jupyter-m.kirjanova-8/shared/homeworks/python_ds_miniprojects/4/data/2020-12-06',\n",
       "  ['Vasiliy_Fedorov'],\n",
       "  []),\n",
       " ('/home/jupyter-m.kirjanova-8/shared/homeworks/python_ds_miniprojects/4/data/2020-12-06/Vasiliy_Fedorov',\n",
       "  [],\n",
       "  ['data.csv']),\n",
       " ('/home/jupyter-m.kirjanova-8/shared/homeworks/python_ds_miniprojects/4/data/2020-12-03',\n",
       "  ['Alexey_Smirnov',\n",
       "   'Anton_Petrov',\n",
       "   'Vasiliy_Petrov',\n",
       "   'Kirill_Petrov',\n",
       "   'Petr_Fedorov',\n",
       "   'Vasiliy_Ivanov'],\n",
       "  []),\n",
       " ('/home/jupyter-m.kirjanova-8/shared/homeworks/python_ds_miniprojects/4/data/2020-12-03/Alexey_Smirnov',\n",
       "  [],\n",
       "  ['data.csv']),\n",
       " ('/home/jupyter-m.kirjanova-8/shared/homeworks/python_ds_miniprojects/4/data/2020-12-03/Anton_Petrov',\n",
       "  [],\n",
       "  ['data.csv']),\n",
       " ('/home/jupyter-m.kirjanova-8/shared/homeworks/python_ds_miniprojects/4/data/2020-12-03/Vasiliy_Petrov',\n",
       "  [],\n",
       "  ['data.csv']),\n",
       " ('/home/jupyter-m.kirjanova-8/shared/homeworks/python_ds_miniprojects/4/data/2020-12-03/Kirill_Petrov',\n",
       "  [],\n",
       "  ['data.csv']),\n",
       " ('/home/jupyter-m.kirjanova-8/shared/homeworks/python_ds_miniprojects/4/data/2020-12-03/Petr_Fedorov',\n",
       "  [],\n",
       "  ['data.csv']),\n",
       " ('/home/jupyter-m.kirjanova-8/shared/homeworks/python_ds_miniprojects/4/data/2020-12-03/Vasiliy_Ivanov',\n",
       "  [],\n",
       "  ['data.csv']),\n",
       " ('/home/jupyter-m.kirjanova-8/shared/homeworks/python_ds_miniprojects/4/data/2020-12-07',\n",
       "  ['Kirill_Fedorov',\n",
       "   'Alexey_Smirnov',\n",
       "   'Rostislav_Fedorov',\n",
       "   'Alexey_Ivanov',\n",
       "   'Petr_Smirnov',\n",
       "   'Alexey_Fedorov',\n",
       "   'Anton_Smirnov',\n",
       "   'Anton_Ivanov',\n",
       "   'Petr_Fedorov',\n",
       "   'Vasiliy_Ivanov'],\n",
       "  []),\n",
       " ('/home/jupyter-m.kirjanova-8/shared/homeworks/python_ds_miniprojects/4/data/2020-12-07/Kirill_Fedorov',\n",
       "  [],\n",
       "  ['data.csv']),\n",
       " ('/home/jupyter-m.kirjanova-8/shared/homeworks/python_ds_miniprojects/4/data/2020-12-07/Alexey_Smirnov',\n",
       "  [],\n",
       "  ['data.csv']),\n",
       " ('/home/jupyter-m.kirjanova-8/shared/homeworks/python_ds_miniprojects/4/data/2020-12-07/Rostislav_Fedorov',\n",
       "  [],\n",
       "  ['data.csv']),\n",
       " ('/home/jupyter-m.kirjanova-8/shared/homeworks/python_ds_miniprojects/4/data/2020-12-07/Alexey_Ivanov',\n",
       "  [],\n",
       "  ['data.csv']),\n",
       " ('/home/jupyter-m.kirjanova-8/shared/homeworks/python_ds_miniprojects/4/data/2020-12-07/Petr_Smirnov',\n",
       "  [],\n",
       "  ['data.csv']),\n",
       " ('/home/jupyter-m.kirjanova-8/shared/homeworks/python_ds_miniprojects/4/data/2020-12-07/Alexey_Fedorov',\n",
       "  [],\n",
       "  ['data.csv']),\n",
       " ('/home/jupyter-m.kirjanova-8/shared/homeworks/python_ds_miniprojects/4/data/2020-12-07/Anton_Smirnov',\n",
       "  [],\n",
       "  ['data.csv']),\n",
       " ('/home/jupyter-m.kirjanova-8/shared/homeworks/python_ds_miniprojects/4/data/2020-12-07/Anton_Ivanov',\n",
       "  [],\n",
       "  ['data.csv']),\n",
       " ('/home/jupyter-m.kirjanova-8/shared/homeworks/python_ds_miniprojects/4/data/2020-12-07/Petr_Fedorov',\n",
       "  [],\n",
       "  ['data.csv']),\n",
       " ('/home/jupyter-m.kirjanova-8/shared/homeworks/python_ds_miniprojects/4/data/2020-12-07/Vasiliy_Ivanov',\n",
       "  [],\n",
       "  ['data.csv'])]"
      ]
     },
     "execution_count": 37,
     "metadata": {},
     "output_type": "execute_result"
    }
   ],
   "source": [
    "folder"
   ]
  },
  {
   "cell_type": "code",
   "execution_count": 74,
   "metadata": {},
   "outputs": [
    {
     "name": "stdout",
     "output_type": "stream",
     "text": [
      "Petr_Ivanov\n",
      "Petr_Smirnov\n",
      "Rostislav_Smirnov\n",
      "Kirill_Smirnov\n",
      "Alexey_Fedorov\n",
      "Alexey_Petrov\n",
      "Petr_Petrov\n",
      "Rostislav_Petrov\n",
      "Kirill_Smirnov\n",
      "Alexey_Fedorov\n",
      "Anton_Smirnov\n",
      "Alexey_Smirnov\n",
      "Anton_Petrov\n",
      "Rostislav_Petrov\n",
      "Anton_Smirnov\n",
      "Anton_Ivanov\n",
      "Petr_Fedorov\n",
      "Vasiliy_Ivanov\n",
      "Kirill_Fedorov\n",
      "Alexey_Smirnov\n",
      "Rostislav_Ivanov\n",
      "Petr_Ivanov\n",
      "Rostislav_Fedorov\n",
      "Petr_Smirnov\n",
      "Rostislav_Smirnov\n",
      "Petr_Fedorov\n",
      "Vasiliy_Ivanov\n",
      "Vasiliy_Fedorov\n",
      "Alexey_Smirnov\n",
      "Anton_Petrov\n",
      "Vasiliy_Petrov\n",
      "Kirill_Petrov\n",
      "Petr_Fedorov\n",
      "Vasiliy_Ivanov\n",
      "Kirill_Fedorov\n",
      "Alexey_Smirnov\n",
      "Rostislav_Fedorov\n",
      "Alexey_Ivanov\n",
      "Petr_Smirnov\n",
      "Alexey_Fedorov\n",
      "Anton_Smirnov\n",
      "Anton_Ivanov\n",
      "Petr_Fedorov\n",
      "Vasiliy_Ivanov\n"
     ]
    }
   ],
   "source": [
    "newDF = pd.DataFrame()\n",
    "for address, dirs, files in folder:\n",
    "    for file in files:\n",
    "        print((address+'/'+file).split('/')[-2]"
   ]
  },
  {
   "cell_type": "code",
   "execution_count": 107,
   "metadata": {},
   "outputs": [],
   "source": [
    "newDF = pd.DataFrame()\n",
    "for address, dirs, files in os.walk(path0):\n",
    "    for file in files:\n",
    "        \n",
    "        tempDF = pd.read_csv(address+'/'+file)\n",
    "        path_parts = address.split('/')\n",
    "        name = path_parts[-1]\n",
    "        date = path_parts[-2]\n",
    "        tempDF['name'] = name\n",
    "        tempDF['date'] = date\n",
    "      \n",
    "        \n",
    "        newDF = newDF.append(tempDF)\n",
    "        \n",
    "      "
   ]
  },
  {
   "cell_type": "code",
   "execution_count": 108,
   "metadata": {},
   "outputs": [
    {
     "data": {
      "text/html": [
       "<div>\n",
       "<style scoped>\n",
       "    .dataframe tbody tr th:only-of-type {\n",
       "        vertical-align: middle;\n",
       "    }\n",
       "\n",
       "    .dataframe tbody tr th {\n",
       "        vertical-align: top;\n",
       "    }\n",
       "\n",
       "    .dataframe thead th {\n",
       "        text-align: right;\n",
       "    }\n",
       "</style>\n",
       "<table border=\"1\" class=\"dataframe\">\n",
       "  <thead>\n",
       "    <tr style=\"text-align: right;\">\n",
       "      <th></th>\n",
       "      <th>Unnamed: 0</th>\n",
       "      <th>product_id</th>\n",
       "      <th>quantity</th>\n",
       "      <th>name</th>\n",
       "      <th>date</th>\n",
       "    </tr>\n",
       "  </thead>\n",
       "  <tbody>\n",
       "    <tr>\n",
       "      <th>0</th>\n",
       "      <td>0</td>\n",
       "      <td>27</td>\n",
       "      <td>4</td>\n",
       "      <td>Petr_Ivanov</td>\n",
       "      <td>2020-12-05</td>\n",
       "    </tr>\n",
       "    <tr>\n",
       "      <th>1</th>\n",
       "      <td>1</td>\n",
       "      <td>89</td>\n",
       "      <td>1</td>\n",
       "      <td>Petr_Ivanov</td>\n",
       "      <td>2020-12-05</td>\n",
       "    </tr>\n",
       "    <tr>\n",
       "      <th>2</th>\n",
       "      <td>2</td>\n",
       "      <td>33</td>\n",
       "      <td>2</td>\n",
       "      <td>Petr_Ivanov</td>\n",
       "      <td>2020-12-05</td>\n",
       "    </tr>\n",
       "    <tr>\n",
       "      <th>3</th>\n",
       "      <td>3</td>\n",
       "      <td>8</td>\n",
       "      <td>3</td>\n",
       "      <td>Petr_Ivanov</td>\n",
       "      <td>2020-12-05</td>\n",
       "    </tr>\n",
       "    <tr>\n",
       "      <th>4</th>\n",
       "      <td>4</td>\n",
       "      <td>16</td>\n",
       "      <td>1</td>\n",
       "      <td>Petr_Ivanov</td>\n",
       "      <td>2020-12-05</td>\n",
       "    </tr>\n",
       "    <tr>\n",
       "      <th>...</th>\n",
       "      <td>...</td>\n",
       "      <td>...</td>\n",
       "      <td>...</td>\n",
       "      <td>...</td>\n",
       "      <td>...</td>\n",
       "    </tr>\n",
       "    <tr>\n",
       "      <th>0</th>\n",
       "      <td>0</td>\n",
       "      <td>18</td>\n",
       "      <td>4</td>\n",
       "      <td>Petr_Fedorov</td>\n",
       "      <td>2020-12-07</td>\n",
       "    </tr>\n",
       "    <tr>\n",
       "      <th>1</th>\n",
       "      <td>1</td>\n",
       "      <td>94</td>\n",
       "      <td>4</td>\n",
       "      <td>Petr_Fedorov</td>\n",
       "      <td>2020-12-07</td>\n",
       "    </tr>\n",
       "    <tr>\n",
       "      <th>0</th>\n",
       "      <td>0</td>\n",
       "      <td>95</td>\n",
       "      <td>2</td>\n",
       "      <td>Vasiliy_Ivanov</td>\n",
       "      <td>2020-12-07</td>\n",
       "    </tr>\n",
       "    <tr>\n",
       "      <th>1</th>\n",
       "      <td>1</td>\n",
       "      <td>83</td>\n",
       "      <td>3</td>\n",
       "      <td>Vasiliy_Ivanov</td>\n",
       "      <td>2020-12-07</td>\n",
       "    </tr>\n",
       "    <tr>\n",
       "      <th>2</th>\n",
       "      <td>2</td>\n",
       "      <td>64</td>\n",
       "      <td>1</td>\n",
       "      <td>Vasiliy_Ivanov</td>\n",
       "      <td>2020-12-07</td>\n",
       "    </tr>\n",
       "  </tbody>\n",
       "</table>\n",
       "<p>161 rows × 5 columns</p>\n",
       "</div>"
      ],
      "text/plain": [
       "    Unnamed: 0  product_id  quantity            name        date\n",
       "0            0          27         4     Petr_Ivanov  2020-12-05\n",
       "1            1          89         1     Petr_Ivanov  2020-12-05\n",
       "2            2          33         2     Petr_Ivanov  2020-12-05\n",
       "3            3           8         3     Petr_Ivanov  2020-12-05\n",
       "4            4          16         1     Petr_Ivanov  2020-12-05\n",
       "..         ...         ...       ...             ...         ...\n",
       "0            0          18         4    Petr_Fedorov  2020-12-07\n",
       "1            1          94         4    Petr_Fedorov  2020-12-07\n",
       "0            0          95         2  Vasiliy_Ivanov  2020-12-07\n",
       "1            1          83         3  Vasiliy_Ivanov  2020-12-07\n",
       "2            2          64         1  Vasiliy_Ivanov  2020-12-07\n",
       "\n",
       "[161 rows x 5 columns]"
      ]
     },
     "execution_count": 108,
     "metadata": {},
     "output_type": "execute_result"
    }
   ],
   "source": [
    "newDF"
   ]
  },
  {
   "cell_type": "code",
   "execution_count": 109,
   "metadata": {},
   "outputs": [],
   "source": [
    "newDF.drop(columns=['Unnamed: 0'], inplace=True)"
   ]
  },
  {
   "cell_type": "code",
   "execution_count": 110,
   "metadata": {},
   "outputs": [
    {
     "data": {
      "text/html": [
       "<div>\n",
       "<style scoped>\n",
       "    .dataframe tbody tr th:only-of-type {\n",
       "        vertical-align: middle;\n",
       "    }\n",
       "\n",
       "    .dataframe tbody tr th {\n",
       "        vertical-align: top;\n",
       "    }\n",
       "\n",
       "    .dataframe thead th {\n",
       "        text-align: right;\n",
       "    }\n",
       "</style>\n",
       "<table border=\"1\" class=\"dataframe\">\n",
       "  <thead>\n",
       "    <tr style=\"text-align: right;\">\n",
       "      <th></th>\n",
       "      <th>product_id</th>\n",
       "      <th>quantity</th>\n",
       "      <th>name</th>\n",
       "      <th>date</th>\n",
       "    </tr>\n",
       "  </thead>\n",
       "  <tbody>\n",
       "    <tr>\n",
       "      <th>0</th>\n",
       "      <td>27</td>\n",
       "      <td>4</td>\n",
       "      <td>Petr_Ivanov</td>\n",
       "      <td>2020-12-05</td>\n",
       "    </tr>\n",
       "    <tr>\n",
       "      <th>1</th>\n",
       "      <td>89</td>\n",
       "      <td>1</td>\n",
       "      <td>Petr_Ivanov</td>\n",
       "      <td>2020-12-05</td>\n",
       "    </tr>\n",
       "    <tr>\n",
       "      <th>2</th>\n",
       "      <td>33</td>\n",
       "      <td>2</td>\n",
       "      <td>Petr_Ivanov</td>\n",
       "      <td>2020-12-05</td>\n",
       "    </tr>\n",
       "    <tr>\n",
       "      <th>3</th>\n",
       "      <td>8</td>\n",
       "      <td>3</td>\n",
       "      <td>Petr_Ivanov</td>\n",
       "      <td>2020-12-05</td>\n",
       "    </tr>\n",
       "    <tr>\n",
       "      <th>4</th>\n",
       "      <td>16</td>\n",
       "      <td>1</td>\n",
       "      <td>Petr_Ivanov</td>\n",
       "      <td>2020-12-05</td>\n",
       "    </tr>\n",
       "    <tr>\n",
       "      <th>...</th>\n",
       "      <td>...</td>\n",
       "      <td>...</td>\n",
       "      <td>...</td>\n",
       "      <td>...</td>\n",
       "    </tr>\n",
       "    <tr>\n",
       "      <th>0</th>\n",
       "      <td>18</td>\n",
       "      <td>4</td>\n",
       "      <td>Petr_Fedorov</td>\n",
       "      <td>2020-12-07</td>\n",
       "    </tr>\n",
       "    <tr>\n",
       "      <th>1</th>\n",
       "      <td>94</td>\n",
       "      <td>4</td>\n",
       "      <td>Petr_Fedorov</td>\n",
       "      <td>2020-12-07</td>\n",
       "    </tr>\n",
       "    <tr>\n",
       "      <th>0</th>\n",
       "      <td>95</td>\n",
       "      <td>2</td>\n",
       "      <td>Vasiliy_Ivanov</td>\n",
       "      <td>2020-12-07</td>\n",
       "    </tr>\n",
       "    <tr>\n",
       "      <th>1</th>\n",
       "      <td>83</td>\n",
       "      <td>3</td>\n",
       "      <td>Vasiliy_Ivanov</td>\n",
       "      <td>2020-12-07</td>\n",
       "    </tr>\n",
       "    <tr>\n",
       "      <th>2</th>\n",
       "      <td>64</td>\n",
       "      <td>1</td>\n",
       "      <td>Vasiliy_Ivanov</td>\n",
       "      <td>2020-12-07</td>\n",
       "    </tr>\n",
       "  </tbody>\n",
       "</table>\n",
       "<p>161 rows × 4 columns</p>\n",
       "</div>"
      ],
      "text/plain": [
       "    product_id  quantity            name        date\n",
       "0           27         4     Petr_Ivanov  2020-12-05\n",
       "1           89         1     Petr_Ivanov  2020-12-05\n",
       "2           33         2     Petr_Ivanov  2020-12-05\n",
       "3            8         3     Petr_Ivanov  2020-12-05\n",
       "4           16         1     Petr_Ivanov  2020-12-05\n",
       "..         ...       ...             ...         ...\n",
       "0           18         4    Petr_Fedorov  2020-12-07\n",
       "1           94         4    Petr_Fedorov  2020-12-07\n",
       "0           95         2  Vasiliy_Ivanov  2020-12-07\n",
       "1           83         3  Vasiliy_Ivanov  2020-12-07\n",
       "2           64         1  Vasiliy_Ivanov  2020-12-07\n",
       "\n",
       "[161 rows x 4 columns]"
      ]
     },
     "execution_count": 110,
     "metadata": {},
     "output_type": "execute_result"
    }
   ],
   "source": [
    "newDF"
   ]
  },
  {
   "cell_type": "code",
   "execution_count": 111,
   "metadata": {},
   "outputs": [],
   "source": [
    "newDF.reset_index(drop=True, inplace=True)"
   ]
  },
  {
   "cell_type": "code",
   "execution_count": 181,
   "metadata": {},
   "outputs": [
    {
     "data": {
      "text/html": [
       "<div>\n",
       "<style scoped>\n",
       "    .dataframe tbody tr th:only-of-type {\n",
       "        vertical-align: middle;\n",
       "    }\n",
       "\n",
       "    .dataframe tbody tr th {\n",
       "        vertical-align: top;\n",
       "    }\n",
       "\n",
       "    .dataframe thead th {\n",
       "        text-align: right;\n",
       "    }\n",
       "</style>\n",
       "<table border=\"1\" class=\"dataframe\">\n",
       "  <thead>\n",
       "    <tr style=\"text-align: right;\">\n",
       "      <th></th>\n",
       "      <th>product_id</th>\n",
       "      <th>quantity</th>\n",
       "      <th>name</th>\n",
       "      <th>date</th>\n",
       "    </tr>\n",
       "  </thead>\n",
       "  <tbody>\n",
       "    <tr>\n",
       "      <th>0</th>\n",
       "      <td>27</td>\n",
       "      <td>4</td>\n",
       "      <td>Petr_Ivanov</td>\n",
       "      <td>2020-12-05</td>\n",
       "    </tr>\n",
       "    <tr>\n",
       "      <th>1</th>\n",
       "      <td>89</td>\n",
       "      <td>1</td>\n",
       "      <td>Petr_Ivanov</td>\n",
       "      <td>2020-12-05</td>\n",
       "    </tr>\n",
       "    <tr>\n",
       "      <th>2</th>\n",
       "      <td>33</td>\n",
       "      <td>2</td>\n",
       "      <td>Petr_Ivanov</td>\n",
       "      <td>2020-12-05</td>\n",
       "    </tr>\n",
       "    <tr>\n",
       "      <th>3</th>\n",
       "      <td>8</td>\n",
       "      <td>3</td>\n",
       "      <td>Petr_Ivanov</td>\n",
       "      <td>2020-12-05</td>\n",
       "    </tr>\n",
       "    <tr>\n",
       "      <th>4</th>\n",
       "      <td>16</td>\n",
       "      <td>1</td>\n",
       "      <td>Petr_Ivanov</td>\n",
       "      <td>2020-12-05</td>\n",
       "    </tr>\n",
       "  </tbody>\n",
       "</table>\n",
       "</div>"
      ],
      "text/plain": [
       "   product_id  quantity         name        date\n",
       "0          27         4  Petr_Ivanov  2020-12-05\n",
       "1          89         1  Petr_Ivanov  2020-12-05\n",
       "2          33         2  Petr_Ivanov  2020-12-05\n",
       "3           8         3  Petr_Ivanov  2020-12-05\n",
       "4          16         1  Petr_Ivanov  2020-12-05"
      ]
     },
     "execution_count": 181,
     "metadata": {},
     "output_type": "execute_result"
    }
   ],
   "source": [
    "newDF.head()"
   ]
  },
  {
   "cell_type": "code",
   "execution_count": 182,
   "metadata": {},
   "outputs": [
    {
     "data": {
      "text/plain": [
       "product_id     int64\n",
       "quantity       int64\n",
       "name          object\n",
       "date          object\n",
       "dtype: object"
      ]
     },
     "execution_count": 182,
     "metadata": {},
     "output_type": "execute_result"
    }
   ],
   "source": [
    "newDF.dtypes"
   ]
  },
  {
   "cell_type": "code",
   "execution_count": 114,
   "metadata": {},
   "outputs": [
    {
     "data": {
      "text/plain": [
       "480"
      ]
     },
     "execution_count": 114,
     "metadata": {},
     "output_type": "execute_result"
    }
   ],
   "source": [
    "newDF.quantity.sum()"
   ]
  },
  {
   "cell_type": "code",
   "execution_count": null,
   "metadata": {},
   "outputs": [],
   "source": [
    "Alexey_Smirnov, Petr_Smirnov"
   ]
  },
  {
   "cell_type": "code",
   "execution_count": 121,
   "metadata": {},
   "outputs": [
    {
     "data": {
      "text/html": [
       "<div>\n",
       "<style scoped>\n",
       "    .dataframe tbody tr th:only-of-type {\n",
       "        vertical-align: middle;\n",
       "    }\n",
       "\n",
       "    .dataframe tbody tr th {\n",
       "        vertical-align: top;\n",
       "    }\n",
       "\n",
       "    .dataframe thead th {\n",
       "        text-align: right;\n",
       "    }\n",
       "</style>\n",
       "<table border=\"1\" class=\"dataframe\">\n",
       "  <thead>\n",
       "    <tr style=\"text-align: right;\">\n",
       "      <th></th>\n",
       "      <th>quantity</th>\n",
       "    </tr>\n",
       "    <tr>\n",
       "      <th>name</th>\n",
       "      <th></th>\n",
       "    </tr>\n",
       "  </thead>\n",
       "  <tbody>\n",
       "    <tr>\n",
       "      <th>Alexey_Smirnov</th>\n",
       "      <td>52</td>\n",
       "    </tr>\n",
       "    <tr>\n",
       "      <th>Petr_Smirnov</th>\n",
       "      <td>52</td>\n",
       "    </tr>\n",
       "    <tr>\n",
       "      <th>Anton_Smirnov</th>\n",
       "      <td>45</td>\n",
       "    </tr>\n",
       "    <tr>\n",
       "      <th>Petr_Fedorov</th>\n",
       "      <td>34</td>\n",
       "    </tr>\n",
       "    <tr>\n",
       "      <th>Kirill_Fedorov</th>\n",
       "      <td>28</td>\n",
       "    </tr>\n",
       "    <tr>\n",
       "      <th>Rostislav_Petrov</th>\n",
       "      <td>28</td>\n",
       "    </tr>\n",
       "    <tr>\n",
       "      <th>Vasiliy_Ivanov</th>\n",
       "      <td>27</td>\n",
       "    </tr>\n",
       "    <tr>\n",
       "      <th>Alexey_Fedorov</th>\n",
       "      <td>24</td>\n",
       "    </tr>\n",
       "    <tr>\n",
       "      <th>Anton_Ivanov</th>\n",
       "      <td>23</td>\n",
       "    </tr>\n",
       "    <tr>\n",
       "      <th>Petr_Ivanov</th>\n",
       "      <td>21</td>\n",
       "    </tr>\n",
       "    <tr>\n",
       "      <th>Anton_Petrov</th>\n",
       "      <td>18</td>\n",
       "    </tr>\n",
       "    <tr>\n",
       "      <th>Kirill_Smirnov</th>\n",
       "      <td>17</td>\n",
       "    </tr>\n",
       "    <tr>\n",
       "      <th>Alexey_Ivanov</th>\n",
       "      <td>17</td>\n",
       "    </tr>\n",
       "    <tr>\n",
       "      <th>Rostislav_Smirnov</th>\n",
       "      <td>17</td>\n",
       "    </tr>\n",
       "    <tr>\n",
       "      <th>Rostislav_Fedorov</th>\n",
       "      <td>16</td>\n",
       "    </tr>\n",
       "    <tr>\n",
       "      <th>Vasiliy_Fedorov</th>\n",
       "      <td>15</td>\n",
       "    </tr>\n",
       "    <tr>\n",
       "      <th>Petr_Petrov</th>\n",
       "      <td>14</td>\n",
       "    </tr>\n",
       "    <tr>\n",
       "      <th>Kirill_Petrov</th>\n",
       "      <td>9</td>\n",
       "    </tr>\n",
       "    <tr>\n",
       "      <th>Rostislav_Ivanov</th>\n",
       "      <td>9</td>\n",
       "    </tr>\n",
       "    <tr>\n",
       "      <th>Alexey_Petrov</th>\n",
       "      <td>7</td>\n",
       "    </tr>\n",
       "    <tr>\n",
       "      <th>Vasiliy_Petrov</th>\n",
       "      <td>7</td>\n",
       "    </tr>\n",
       "  </tbody>\n",
       "</table>\n",
       "</div>"
      ],
      "text/plain": [
       "                   quantity\n",
       "name                       \n",
       "Alexey_Smirnov           52\n",
       "Petr_Smirnov             52\n",
       "Anton_Smirnov            45\n",
       "Petr_Fedorov             34\n",
       "Kirill_Fedorov           28\n",
       "Rostislav_Petrov         28\n",
       "Vasiliy_Ivanov           27\n",
       "Alexey_Fedorov           24\n",
       "Anton_Ivanov             23\n",
       "Petr_Ivanov              21\n",
       "Anton_Petrov             18\n",
       "Kirill_Smirnov           17\n",
       "Alexey_Ivanov            17\n",
       "Rostislav_Smirnov        17\n",
       "Rostislav_Fedorov        16\n",
       "Vasiliy_Fedorov          15\n",
       "Petr_Petrov              14\n",
       "Kirill_Petrov             9\n",
       "Rostislav_Ivanov          9\n",
       "Alexey_Petrov             7\n",
       "Vasiliy_Petrov            7"
      ]
     },
     "execution_count": 121,
     "metadata": {},
     "output_type": "execute_result"
    }
   ],
   "source": [
    "newDF.groupby('name') \\\n",
    "     .agg({'quantity': 'sum'}) \\\n",
    "     .sort_values(by=['quantity'], ascending=False)"
   ]
  },
  {
   "cell_type": "code",
   "execution_count": 139,
   "metadata": {},
   "outputs": [],
   "source": [
    "DF_prod_top10 = newDF.groupby('product_id', as_index=False) \\\n",
    "     .agg({'quantity': 'sum'}) \\\n",
    "     .sort_values(by=['quantity'], ascending=False) \\\n",
    "     .head(10) \\\n",
    "     .reset_index(drop=True)"
   ]
  },
  {
   "cell_type": "code",
   "execution_count": 140,
   "metadata": {},
   "outputs": [
    {
     "data": {
      "text/html": [
       "<div>\n",
       "<style scoped>\n",
       "    .dataframe tbody tr th:only-of-type {\n",
       "        vertical-align: middle;\n",
       "    }\n",
       "\n",
       "    .dataframe tbody tr th {\n",
       "        vertical-align: top;\n",
       "    }\n",
       "\n",
       "    .dataframe thead th {\n",
       "        text-align: right;\n",
       "    }\n",
       "</style>\n",
       "<table border=\"1\" class=\"dataframe\">\n",
       "  <thead>\n",
       "    <tr style=\"text-align: right;\">\n",
       "      <th></th>\n",
       "      <th>product_id</th>\n",
       "      <th>quantity</th>\n",
       "    </tr>\n",
       "  </thead>\n",
       "  <tbody>\n",
       "    <tr>\n",
       "      <th>0</th>\n",
       "      <td>27</td>\n",
       "      <td>20</td>\n",
       "    </tr>\n",
       "    <tr>\n",
       "      <th>1</th>\n",
       "      <td>56</td>\n",
       "      <td>18</td>\n",
       "    </tr>\n",
       "    <tr>\n",
       "      <th>2</th>\n",
       "      <td>24</td>\n",
       "      <td>15</td>\n",
       "    </tr>\n",
       "    <tr>\n",
       "      <th>3</th>\n",
       "      <td>74</td>\n",
       "      <td>15</td>\n",
       "    </tr>\n",
       "    <tr>\n",
       "      <th>4</th>\n",
       "      <td>41</td>\n",
       "      <td>14</td>\n",
       "    </tr>\n",
       "    <tr>\n",
       "      <th>5</th>\n",
       "      <td>34</td>\n",
       "      <td>13</td>\n",
       "    </tr>\n",
       "    <tr>\n",
       "      <th>6</th>\n",
       "      <td>94</td>\n",
       "      <td>13</td>\n",
       "    </tr>\n",
       "    <tr>\n",
       "      <th>7</th>\n",
       "      <td>66</td>\n",
       "      <td>13</td>\n",
       "    </tr>\n",
       "    <tr>\n",
       "      <th>8</th>\n",
       "      <td>92</td>\n",
       "      <td>12</td>\n",
       "    </tr>\n",
       "    <tr>\n",
       "      <th>9</th>\n",
       "      <td>50</td>\n",
       "      <td>12</td>\n",
       "    </tr>\n",
       "  </tbody>\n",
       "</table>\n",
       "</div>"
      ],
      "text/plain": [
       "   product_id  quantity\n",
       "0          27        20\n",
       "1          56        18\n",
       "2          24        15\n",
       "3          74        15\n",
       "4          41        14\n",
       "5          34        13\n",
       "6          94        13\n",
       "7          66        13\n",
       "8          92        12\n",
       "9          50        12"
      ]
     },
     "execution_count": 140,
     "metadata": {},
     "output_type": "execute_result"
    }
   ],
   "source": [
    "DF_prod_top10"
   ]
  },
  {
   "cell_type": "code",
   "execution_count": 180,
   "metadata": {},
   "outputs": [
    {
     "data": {
      "image/png": "[encoded data removed]",
      "text/plain": [
       "<Figure size 720x468 with 1 Axes>"
      ]
     },
     "metadata": {
      "needs_background": "light"
     },
     "output_type": "display_data"
    }
   ],
   "source": [
    "plt.figure(figsize=(10,6.5))\n",
    "sns.barplot(x='product_id', y='quantity', data=DF_prod_top10, palette=\"cubehelix\", alpha=0.5);\n",
    "# viridis  jet inferno cubehelix"
   ]
  },
  {
   "cell_type": "code",
   "execution_count": 184,
   "metadata": {},
   "outputs": [],
   "source": [
    "newDF['date'] = \\\n",
    "newDF['date'].apply(pd.to_datetime, yearfirst=True) "
   ]
  },
  {
   "cell_type": "code",
   "execution_count": 186,
   "metadata": {},
   "outputs": [
    {
     "data": {
      "text/plain": [
       "<matplotlib.axes._subplots.AxesSubplot at 0x7ff1ca77dcc0>"
      ]
     },
     "execution_count": 186,
     "metadata": {},
     "output_type": "execute_result"
    },
    {
     "data": {
      "image/png": "[encoded data removed]",
      "text/plain": [
       "<Figure size 432x288 with 1 Axes>"
      ]
     },
     "metadata": {
      "needs_background": "light"
     },
     "output_type": "display_data"
    }
   ],
   "source": [
    "newDF.groupby('date') \\\n",
    "     .agg({'quantity': 'sum'}) \\\n",
    "     .plot(kind='bar')\n",
    "  "
   ]
  },
  {
   "cell_type": "code",
   "execution_count": 192,
   "metadata": {},
   "outputs": [],
   "source": [
    "newDF = newDF.drop_duplicates(subset=['product_id', 'name', 'date'])"
   ]
  },
  {
   "cell_type": "code",
   "execution_count": 193,
   "metadata": {},
   "outputs": [
    {
     "data": {
      "text/html": [
       "<div>\n",
       "<style scoped>\n",
       "    .dataframe tbody tr th:only-of-type {\n",
       "        vertical-align: middle;\n",
       "    }\n",
       "\n",
       "    .dataframe tbody tr th {\n",
       "        vertical-align: top;\n",
       "    }\n",
       "\n",
       "    .dataframe thead th {\n",
       "        text-align: right;\n",
       "    }\n",
       "</style>\n",
       "<table border=\"1\" class=\"dataframe\">\n",
       "  <thead>\n",
       "    <tr style=\"text-align: right;\">\n",
       "      <th></th>\n",
       "      <th>product_id</th>\n",
       "      <th>quantity</th>\n",
       "      <th>name</th>\n",
       "      <th>date</th>\n",
       "    </tr>\n",
       "  </thead>\n",
       "  <tbody>\n",
       "    <tr>\n",
       "      <th>0</th>\n",
       "      <td>27</td>\n",
       "      <td>4</td>\n",
       "      <td>Petr_Ivanov</td>\n",
       "      <td>2020-12-05</td>\n",
       "    </tr>\n",
       "    <tr>\n",
       "      <th>1</th>\n",
       "      <td>89</td>\n",
       "      <td>1</td>\n",
       "      <td>Petr_Ivanov</td>\n",
       "      <td>2020-12-05</td>\n",
       "    </tr>\n",
       "    <tr>\n",
       "      <th>2</th>\n",
       "      <td>33</td>\n",
       "      <td>2</td>\n",
       "      <td>Petr_Ivanov</td>\n",
       "      <td>2020-12-05</td>\n",
       "    </tr>\n",
       "    <tr>\n",
       "      <th>3</th>\n",
       "      <td>8</td>\n",
       "      <td>3</td>\n",
       "      <td>Petr_Ivanov</td>\n",
       "      <td>2020-12-05</td>\n",
       "    </tr>\n",
       "    <tr>\n",
       "      <th>4</th>\n",
       "      <td>16</td>\n",
       "      <td>1</td>\n",
       "      <td>Petr_Ivanov</td>\n",
       "      <td>2020-12-05</td>\n",
       "    </tr>\n",
       "    <tr>\n",
       "      <th>...</th>\n",
       "      <td>...</td>\n",
       "      <td>...</td>\n",
       "      <td>...</td>\n",
       "      <td>...</td>\n",
       "    </tr>\n",
       "    <tr>\n",
       "      <th>156</th>\n",
       "      <td>18</td>\n",
       "      <td>4</td>\n",
       "      <td>Petr_Fedorov</td>\n",
       "      <td>2020-12-07</td>\n",
       "    </tr>\n",
       "    <tr>\n",
       "      <th>157</th>\n",
       "      <td>94</td>\n",
       "      <td>4</td>\n",
       "      <td>Petr_Fedorov</td>\n",
       "      <td>2020-12-07</td>\n",
       "    </tr>\n",
       "    <tr>\n",
       "      <th>158</th>\n",
       "      <td>95</td>\n",
       "      <td>2</td>\n",
       "      <td>Vasiliy_Ivanov</td>\n",
       "      <td>2020-12-07</td>\n",
       "    </tr>\n",
       "    <tr>\n",
       "      <th>159</th>\n",
       "      <td>83</td>\n",
       "      <td>3</td>\n",
       "      <td>Vasiliy_Ivanov</td>\n",
       "      <td>2020-12-07</td>\n",
       "    </tr>\n",
       "    <tr>\n",
       "      <th>160</th>\n",
       "      <td>64</td>\n",
       "      <td>1</td>\n",
       "      <td>Vasiliy_Ivanov</td>\n",
       "      <td>2020-12-07</td>\n",
       "    </tr>\n",
       "  </tbody>\n",
       "</table>\n",
       "<p>160 rows × 4 columns</p>\n",
       "</div>"
      ],
      "text/plain": [
       "     product_id  quantity            name       date\n",
       "0            27         4     Petr_Ivanov 2020-12-05\n",
       "1            89         1     Petr_Ivanov 2020-12-05\n",
       "2            33         2     Petr_Ivanov 2020-12-05\n",
       "3             8         3     Petr_Ivanov 2020-12-05\n",
       "4            16         1     Petr_Ivanov 2020-12-05\n",
       "..          ...       ...             ...        ...\n",
       "156          18         4    Petr_Fedorov 2020-12-07\n",
       "157          94         4    Petr_Fedorov 2020-12-07\n",
       "158          95         2  Vasiliy_Ivanov 2020-12-07\n",
       "159          83         3  Vasiliy_Ivanov 2020-12-07\n",
       "160          64         1  Vasiliy_Ivanov 2020-12-07\n",
       "\n",
       "[160 rows x 4 columns]"
      ]
     },
     "execution_count": 193,
     "metadata": {},
     "output_type": "execute_result"
    }
   ],
   "source": [
    "newDF"
   ]
  },
  {
   "cell_type": "code",
   "execution_count": 199,
   "metadata": {},
   "outputs": [
    {
     "data": {
      "text/html": [
       "<div>\n",
       "<style scoped>\n",
       "    .dataframe tbody tr th:only-of-type {\n",
       "        vertical-align: middle;\n",
       "    }\n",
       "\n",
       "    .dataframe tbody tr th {\n",
       "        vertical-align: top;\n",
       "    }\n",
       "\n",
       "    .dataframe thead th {\n",
       "        text-align: right;\n",
       "    }\n",
       "</style>\n",
       "<table border=\"1\" class=\"dataframe\">\n",
       "  <thead>\n",
       "    <tr style=\"text-align: right;\">\n",
       "      <th></th>\n",
       "      <th></th>\n",
       "      <th>date</th>\n",
       "    </tr>\n",
       "    <tr>\n",
       "      <th>name</th>\n",
       "      <th>product_id</th>\n",
       "      <th></th>\n",
       "    </tr>\n",
       "  </thead>\n",
       "  <tbody>\n",
       "    <tr>\n",
       "      <th>Anton_Ivanov</th>\n",
       "      <th>15</th>\n",
       "      <td>2</td>\n",
       "    </tr>\n",
       "    <tr>\n",
       "      <th>Petr_Fedorov</th>\n",
       "      <th>94</th>\n",
       "      <td>2</td>\n",
       "    </tr>\n",
       "  </tbody>\n",
       "</table>\n",
       "</div>"
      ],
      "text/plain": [
       "                         date\n",
       "name         product_id      \n",
       "Anton_Ivanov 15             2\n",
       "Petr_Fedorov 94             2"
      ]
     },
     "execution_count": 199,
     "metadata": {},
     "output_type": "execute_result"
    }
   ],
   "source": [
    "newDF.groupby(['name', 'product_id']) \\\n",
    "     .agg({'date': 'count'}) \\\n",
    "     .query(\"date > 1\")"
   ]
  },
  {
   "cell_type": "markdown",
   "metadata": {},
   "source": [
    "#### Минипроект 2\n",
    "\n",
    "В файле содержится информация о покупках людей\n",
    "\n",
    "\n",
    "id | Товар | Количество\n",
    "--- | --- | ---\n",
    "1 | Арбуз | 1.0\n",
    "1 | Чай | 1.0\n",
    "1 | Сгущёнка | 0.5\n",
    "2 | Арбуз | 1.0\n",
    "2 | Чай | 1.0\n",
    "\n",
    "id – означает покупку (в одну покупку входят все товары, купленные пользователем во время 1 похода в магазин)\n",
    "Товар – наименование товара\n",
    "Количество – число единиц купленного товара\n",
    "Воспользуйтесь этими данными и выясните, какие пары товаров пользователи чаще всего покупают вместе. По сути, вам необходимо найти паттерны покупок, что позволит оптимизировать размещение продуктов в магазине, для удобства пользователей и увеличения выручки.\n",
    "\n",
    "1_Товар | 2_Товар | Встречаемость\n",
    "--- | --- | ---\n",
    "Чай | Арбуз | 2\n",
    "Арбуз | Сгущёнка | 1\n",
    "Чай | Сгущёнка | 1\n",
    "\n",
    "\n",
    "1_Товар – наименование первого товара\n",
    "2_Товар – наименование второго товара\n",
    "Встречаемость – число раз, когда такая пара была встречена\n",
    "Другими словами: 2 раза люди покупали одновременно чай и арбуз, 1 раз одновременно покупали арбуз и сгущёнку и 1 раз одновременно были куплены чай со сгущёнкой.\n",
    "\n",
    "Напишите код на python для получения нужной таблицы и укажите 5 наиболее распространённых паттернов."
   ]
  },
  {
   "cell_type": "code",
   "execution_count": 31,
   "metadata": {},
   "outputs": [],
   "source": [
    "import pandas as pd\n",
    "from itertools import combinations"
   ]
  },
  {
   "cell_type": "code",
   "execution_count": 32,
   "metadata": {},
   "outputs": [],
   "source": [
    "# Выгружаем данные и формируаем датафрейм\n",
    "prod_sale = pd.read_csv('https://stepik.org/media/attachments/lesson/409319/test1_completed.csv')"
   ]
  },
  {
   "cell_type": "code",
   "execution_count": 33,
   "metadata": {},
   "outputs": [
    {
     "data": {
      "text/html": [
       "<div>\n",
       "<style scoped>\n",
       "    .dataframe tbody tr th:only-of-type {\n",
       "        vertical-align: middle;\n",
       "    }\n",
       "\n",
       "    .dataframe tbody tr th {\n",
       "        vertical-align: top;\n",
       "    }\n",
       "\n",
       "    .dataframe thead th {\n",
       "        text-align: right;\n",
       "    }\n",
       "</style>\n",
       "<table border=\"1\" class=\"dataframe\">\n",
       "  <thead>\n",
       "    <tr style=\"text-align: right;\">\n",
       "      <th></th>\n",
       "      <th>id</th>\n",
       "      <th>Товар</th>\n",
       "      <th>Количество</th>\n",
       "    </tr>\n",
       "  </thead>\n",
       "  <tbody>\n",
       "    <tr>\n",
       "      <th>0</th>\n",
       "      <td>17119</td>\n",
       "      <td>Лимон</td>\n",
       "      <td>1.1</td>\n",
       "    </tr>\n",
       "    <tr>\n",
       "      <th>1</th>\n",
       "      <td>17119</td>\n",
       "      <td>Лимон оранжевый</td>\n",
       "      <td>0.7</td>\n",
       "    </tr>\n",
       "    <tr>\n",
       "      <th>2</th>\n",
       "      <td>17119</td>\n",
       "      <td>Лук-порей</td>\n",
       "      <td>10.0</td>\n",
       "    </tr>\n",
       "    <tr>\n",
       "      <th>3</th>\n",
       "      <td>17119</td>\n",
       "      <td>Лук репчатый</td>\n",
       "      <td>2.5</td>\n",
       "    </tr>\n",
       "    <tr>\n",
       "      <th>4</th>\n",
       "      <td>17119</td>\n",
       "      <td>Малина свежая</td>\n",
       "      <td>1.0</td>\n",
       "    </tr>\n",
       "  </tbody>\n",
       "</table>\n",
       "</div>"
      ],
      "text/plain": [
       "      id            Товар  Количество\n",
       "0  17119            Лимон         1.1\n",
       "1  17119  Лимон оранжевый         0.7\n",
       "2  17119        Лук-порей        10.0\n",
       "3  17119     Лук репчатый         2.5\n",
       "4  17119    Малина свежая         1.0"
      ]
     },
     "execution_count": 33,
     "metadata": {},
     "output_type": "execute_result"
    }
   ],
   "source": [
    "# Посмотрим первые 5 строк\n",
    "prod_sale.head()"
   ]
  },
  {
   "cell_type": "code",
   "execution_count": 34,
   "metadata": {},
   "outputs": [
    {
     "data": {
      "text/html": [
       "<div>\n",
       "<style scoped>\n",
       "    .dataframe tbody tr th:only-of-type {\n",
       "        vertical-align: middle;\n",
       "    }\n",
       "\n",
       "    .dataframe tbody tr th {\n",
       "        vertical-align: top;\n",
       "    }\n",
       "\n",
       "    .dataframe thead th {\n",
       "        text-align: right;\n",
       "    }\n",
       "</style>\n",
       "<table border=\"1\" class=\"dataframe\">\n",
       "  <thead>\n",
       "    <tr style=\"text-align: right;\">\n",
       "      <th></th>\n",
       "      <th>id</th>\n",
       "      <th>Product</th>\n",
       "      <th>Count</th>\n",
       "    </tr>\n",
       "  </thead>\n",
       "  <tbody>\n",
       "    <tr>\n",
       "      <th>0</th>\n",
       "      <td>17119</td>\n",
       "      <td>Лимон</td>\n",
       "      <td>1.1</td>\n",
       "    </tr>\n",
       "    <tr>\n",
       "      <th>1</th>\n",
       "      <td>17119</td>\n",
       "      <td>Лимон оранжевый</td>\n",
       "      <td>0.7</td>\n",
       "    </tr>\n",
       "    <tr>\n",
       "      <th>2</th>\n",
       "      <td>17119</td>\n",
       "      <td>Лук-порей</td>\n",
       "      <td>10.0</td>\n",
       "    </tr>\n",
       "    <tr>\n",
       "      <th>3</th>\n",
       "      <td>17119</td>\n",
       "      <td>Лук репчатый</td>\n",
       "      <td>2.5</td>\n",
       "    </tr>\n",
       "    <tr>\n",
       "      <th>4</th>\n",
       "      <td>17119</td>\n",
       "      <td>Малина свежая</td>\n",
       "      <td>1.0</td>\n",
       "    </tr>\n",
       "  </tbody>\n",
       "</table>\n",
       "</div>"
      ],
      "text/plain": [
       "      id          Product  Count\n",
       "0  17119            Лимон    1.1\n",
       "1  17119  Лимон оранжевый    0.7\n",
       "2  17119        Лук-порей   10.0\n",
       "3  17119     Лук репчатый    2.5\n",
       "4  17119    Малина свежая    1.0"
      ]
     },
     "execution_count": 34,
     "metadata": {},
     "output_type": "execute_result"
    }
   ],
   "source": [
    "# Переименуем столбцы\n",
    "prod_sale = prod_sale.rename(columns = {'Товар':'Product', 'Количество':'Count'})\n",
    "prod_sale.head()"
   ]
  },
  {
   "cell_type": "code",
   "execution_count": 35,
   "metadata": {},
   "outputs": [],
   "source": [
    "# Сгруппируем данные по id заказа и сгенерируем всевозможные коминации пар, сбросим индексы, переименуем столбцы\n",
    "\n",
    "df_pares = prod_sale.groupby('id') \\\n",
    "                    .apply(lambda x: pd.DataFrame(list(combinations(x.Product, 2)))) \\\n",
    "                    .reset_index() \\\n",
    "                    .rename(columns = {0: 'product_1', 1: 'product_2'})"
   ]
  },
  {
   "cell_type": "code",
   "execution_count": 36,
   "metadata": {},
   "outputs": [
    {
     "data": {
      "text/html": [
       "<div>\n",
       "<style scoped>\n",
       "    .dataframe tbody tr th:only-of-type {\n",
       "        vertical-align: middle;\n",
       "    }\n",
       "\n",
       "    .dataframe tbody tr th {\n",
       "        vertical-align: top;\n",
       "    }\n",
       "\n",
       "    .dataframe thead th {\n",
       "        text-align: right;\n",
       "    }\n",
       "</style>\n",
       "<table border=\"1\" class=\"dataframe\">\n",
       "  <thead>\n",
       "    <tr style=\"text-align: right;\">\n",
       "      <th></th>\n",
       "      <th>id</th>\n",
       "      <th>level_1</th>\n",
       "      <th>product_1</th>\n",
       "      <th>product_2</th>\n",
       "    </tr>\n",
       "  </thead>\n",
       "  <tbody>\n",
       "    <tr>\n",
       "      <th>0</th>\n",
       "      <td>17119</td>\n",
       "      <td>0</td>\n",
       "      <td>Лимон</td>\n",
       "      <td>Лимон оранжевый</td>\n",
       "    </tr>\n",
       "    <tr>\n",
       "      <th>1</th>\n",
       "      <td>17119</td>\n",
       "      <td>1</td>\n",
       "      <td>Лимон</td>\n",
       "      <td>Лук-порей</td>\n",
       "    </tr>\n",
       "    <tr>\n",
       "      <th>2</th>\n",
       "      <td>17119</td>\n",
       "      <td>2</td>\n",
       "      <td>Лимон</td>\n",
       "      <td>Лук репчатый</td>\n",
       "    </tr>\n",
       "    <tr>\n",
       "      <th>3</th>\n",
       "      <td>17119</td>\n",
       "      <td>3</td>\n",
       "      <td>Лимон</td>\n",
       "      <td>Малина свежая</td>\n",
       "    </tr>\n",
       "    <tr>\n",
       "      <th>4</th>\n",
       "      <td>17119</td>\n",
       "      <td>4</td>\n",
       "      <td>Лимон</td>\n",
       "      <td>Морковь немытая</td>\n",
       "    </tr>\n",
       "  </tbody>\n",
       "</table>\n",
       "</div>"
      ],
      "text/plain": [
       "      id  level_1 product_1        product_2\n",
       "0  17119        0     Лимон  Лимон оранжевый\n",
       "1  17119        1     Лимон        Лук-порей\n",
       "2  17119        2     Лимон     Лук репчатый\n",
       "3  17119        3     Лимон    Малина свежая\n",
       "4  17119        4     Лимон  Морковь немытая"
      ]
     },
     "execution_count": 36,
     "metadata": {},
     "output_type": "execute_result"
    }
   ],
   "source": [
    "df_pares.head()"
   ]
  },
  {
   "cell_type": "code",
   "execution_count": 37,
   "metadata": {},
   "outputs": [],
   "source": [
    "# Сгруппируем данные по двум продуктам, посчитаем кол-во повторений, сбросим индексы, переименуем столбцы, отсортируем по убыванию\n",
    "\n",
    "df_pares_final = df_pares.groupby(['product_1','product_2']) \\\n",
    "        .size() \\\n",
    "        .reset_index() \\\n",
    "        .rename(columns = {0: 'pare_count'}) \\\n",
    "        .sort_values(by=['pare_count'], ascending=False)"
   ]
  },
  {
   "cell_type": "code",
   "execution_count": 38,
   "metadata": {},
   "outputs": [
    {
     "data": {
      "text/html": [
       "<div>\n",
       "<style scoped>\n",
       "    .dataframe tbody tr th:only-of-type {\n",
       "        vertical-align: middle;\n",
       "    }\n",
       "\n",
       "    .dataframe tbody tr th {\n",
       "        vertical-align: top;\n",
       "    }\n",
       "\n",
       "    .dataframe thead th {\n",
       "        text-align: right;\n",
       "    }\n",
       "</style>\n",
       "<table border=\"1\" class=\"dataframe\">\n",
       "  <thead>\n",
       "    <tr style=\"text-align: right;\">\n",
       "      <th></th>\n",
       "      <th>product_1</th>\n",
       "      <th>product_2</th>\n",
       "      <th>pare_count</th>\n",
       "    </tr>\n",
       "  </thead>\n",
       "  <tbody>\n",
       "    <tr>\n",
       "      <th>22447</th>\n",
       "      <td>Огурцы Луховицкие</td>\n",
       "      <td>Укроп</td>\n",
       "      <td>403</td>\n",
       "    </tr>\n",
       "    <tr>\n",
       "      <th>25209</th>\n",
       "      <td>Петрушка</td>\n",
       "      <td>Укроп</td>\n",
       "      <td>390</td>\n",
       "    </tr>\n",
       "    <tr>\n",
       "      <th>1693</th>\n",
       "      <td>Арбуз</td>\n",
       "      <td>Огурцы Луховицкие</td>\n",
       "      <td>314</td>\n",
       "    </tr>\n",
       "    <tr>\n",
       "      <th>10961</th>\n",
       "      <td>Кабачки</td>\n",
       "      <td>Огурцы Луховицкие</td>\n",
       "      <td>300</td>\n",
       "    </tr>\n",
       "    <tr>\n",
       "      <th>13381</th>\n",
       "      <td>Кинза</td>\n",
       "      <td>Укроп</td>\n",
       "      <td>290</td>\n",
       "    </tr>\n",
       "  </tbody>\n",
       "</table>\n",
       "</div>"
      ],
      "text/plain": [
       "               product_1          product_2  pare_count\n",
       "22447  Огурцы Луховицкие              Укроп         403\n",
       "25209           Петрушка              Укроп         390\n",
       "1693               Арбуз  Огурцы Луховицкие         314\n",
       "10961            Кабачки  Огурцы Луховицкие         300\n",
       "13381              Кинза              Укроп         290"
      ]
     },
     "execution_count": 38,
     "metadata": {},
     "output_type": "execute_result"
    }
   ],
   "source": [
    "# Выведем 5 наиболее популярных паттернов\n",
    "df_pares_final_5 = df_pares_final.head()\n",
    "df_pares_final_5"
   ]
  },
  {
   "cell_type": "code",
   "execution_count": 39,
   "metadata": {},
   "outputs": [],
   "source": [
    "# Сбросим индексы, уберем лишние столбцы, переименуем столбцы\n",
    "\n",
    "df_pares_final_5 = df_pares_final_5 \\\n",
    "                .reset_index() \\\n",
    "                .drop(['index'], axis = 1) \\\n",
    "                .rename(columns = {'product_1': '1_Товар', 'product_2': '2_Товар', 'pare_count': 'Встречаемость'})"
   ]
  },
  {
   "cell_type": "code",
   "execution_count": 40,
   "metadata": {},
   "outputs": [
    {
     "data": {
      "text/html": [
       "<div>\n",
       "<style scoped>\n",
       "    .dataframe tbody tr th:only-of-type {\n",
       "        vertical-align: middle;\n",
       "    }\n",
       "\n",
       "    .dataframe tbody tr th {\n",
       "        vertical-align: top;\n",
       "    }\n",
       "\n",
       "    .dataframe thead th {\n",
       "        text-align: right;\n",
       "    }\n",
       "</style>\n",
       "<table border=\"1\" class=\"dataframe\">\n",
       "  <thead>\n",
       "    <tr style=\"text-align: right;\">\n",
       "      <th></th>\n",
       "      <th>1_Товар</th>\n",
       "      <th>2_Товар</th>\n",
       "      <th>Встречаемость</th>\n",
       "    </tr>\n",
       "  </thead>\n",
       "  <tbody>\n",
       "    <tr>\n",
       "      <th>0</th>\n",
       "      <td>Огурцы Луховицкие</td>\n",
       "      <td>Укроп</td>\n",
       "      <td>403</td>\n",
       "    </tr>\n",
       "    <tr>\n",
       "      <th>1</th>\n",
       "      <td>Петрушка</td>\n",
       "      <td>Укроп</td>\n",
       "      <td>390</td>\n",
       "    </tr>\n",
       "    <tr>\n",
       "      <th>2</th>\n",
       "      <td>Арбуз</td>\n",
       "      <td>Огурцы Луховицкие</td>\n",
       "      <td>314</td>\n",
       "    </tr>\n",
       "    <tr>\n",
       "      <th>3</th>\n",
       "      <td>Кабачки</td>\n",
       "      <td>Огурцы Луховицкие</td>\n",
       "      <td>300</td>\n",
       "    </tr>\n",
       "    <tr>\n",
       "      <th>4</th>\n",
       "      <td>Кинза</td>\n",
       "      <td>Укроп</td>\n",
       "      <td>290</td>\n",
       "    </tr>\n",
       "  </tbody>\n",
       "</table>\n",
       "</div>"
      ],
      "text/plain": [
       "             1_Товар            2_Товар  Встречаемость\n",
       "0  Огурцы Луховицкие              Укроп            403\n",
       "1           Петрушка              Укроп            390\n",
       "2              Арбуз  Огурцы Луховицкие            314\n",
       "3            Кабачки  Огурцы Луховицкие            300\n",
       "4              Кинза              Укроп            290"
      ]
     },
     "execution_count": 40,
     "metadata": {},
     "output_type": "execute_result"
    }
   ],
   "source": [
    "# Следующие 5 пар товаров пользователи чаще всего покупают вместе\n",
    "df_pares_final_5"
   ]
  },
  {
   "cell_type": "markdown",
   "metadata": {},
   "source": [
    "#### Минипроект 3\n",
    "\n",
    "Описание эксперимента  \n",
    "Перед вами таблица, где числовая переменная – непрерывная. Задача – сравнить группы двумя способами: бутстрапом и u-тестом\n",
    "\n",
    "Описание колонок\n",
    " * value – значения метрики\n",
    " * experimentVariant – Вариант теста (Control – контроль, Treatment – тест)\n",
    "\n",
    "Задача\n",
    "1. Сравните результат между тестом и контролем по двум кейсам:\n",
    " * Примените бутстрап (с np.mean) и критерий mann-whitney, а потом сравните p-value\n",
    " * Примените бутстрап (с np.median) и критерий mann-whitney, а потом сравните p-value\n",
    "2. Напишите выводы, которые можно сделать на основе анализа примененных критериев\n"
   ]
  },
  {
   "cell_type": "code",
   "execution_count": 1,
   "metadata": {},
   "outputs": [],
   "source": [
    "import numpy as np\n",
    "import pandas as pd\n",
    "from scipy.stats import norm\n",
    "import matplotlib.pyplot as plt\n",
    "\n",
    "from tqdm.auto import tqdm\n",
    "\n",
    "plt.style.use('ggplot')\n",
    "\n",
    "from scipy.stats import mannwhitneyu\n",
    "\n",
    "import seaborn as sns"
   ]
  },
  {
   "cell_type": "code",
   "execution_count": 2,
   "metadata": {},
   "outputs": [],
   "source": [
    "df_exper = pd.read_csv('https://stepik.org/media/attachments/lesson/396008/hw_bootstrap.csv', sep=';')"
   ]
  },
  {
   "cell_type": "code",
   "execution_count": 3,
   "metadata": {
    "scrolled": true
   },
   "outputs": [
    {
     "data": {
      "text/html": [
       "<div>\n",
       "<style scoped>\n",
       "    .dataframe tbody tr th:only-of-type {\n",
       "        vertical-align: middle;\n",
       "    }\n",
       "\n",
       "    .dataframe tbody tr th {\n",
       "        vertical-align: top;\n",
       "    }\n",
       "\n",
       "    .dataframe thead th {\n",
       "        text-align: right;\n",
       "    }\n",
       "</style>\n",
       "<table border=\"1\" class=\"dataframe\">\n",
       "  <thead>\n",
       "    <tr style=\"text-align: right;\">\n",
       "      <th></th>\n",
       "      <th>Unnamed: 0</th>\n",
       "      <th>value</th>\n",
       "      <th>experimentVariant</th>\n",
       "    </tr>\n",
       "  </thead>\n",
       "  <tbody>\n",
       "    <tr>\n",
       "      <th>0</th>\n",
       "      <td>1</td>\n",
       "      <td>10,3804953740268</td>\n",
       "      <td>Control</td>\n",
       "    </tr>\n",
       "    <tr>\n",
       "      <th>1</th>\n",
       "      <td>2</td>\n",
       "      <td>9,54686666784264</td>\n",
       "      <td>Control</td>\n",
       "    </tr>\n",
       "    <tr>\n",
       "      <th>2</th>\n",
       "      <td>3</td>\n",
       "      <td>11,0882146509904</td>\n",
       "      <td>Control</td>\n",
       "    </tr>\n",
       "    <tr>\n",
       "      <th>3</th>\n",
       "      <td>4</td>\n",
       "      <td>10,1472740570122</td>\n",
       "      <td>Control</td>\n",
       "    </tr>\n",
       "    <tr>\n",
       "      <th>4</th>\n",
       "      <td>5</td>\n",
       "      <td>9,78980767524929</td>\n",
       "      <td>Control</td>\n",
       "    </tr>\n",
       "  </tbody>\n",
       "</table>\n",
       "</div>"
      ],
      "text/plain": [
       "   Unnamed: 0             value experimentVariant\n",
       "0           1  10,3804953740268           Control\n",
       "1           2  9,54686666784264           Control\n",
       "2           3  11,0882146509904           Control\n",
       "3           4  10,1472740570122           Control\n",
       "4           5  9,78980767524929           Control"
      ]
     },
     "execution_count": 3,
     "metadata": {},
     "output_type": "execute_result"
    }
   ],
   "source": [
    "df_exper.head()"
   ]
  },
  {
   "cell_type": "code",
   "execution_count": 4,
   "metadata": {},
   "outputs": [
    {
     "data": {
      "text/plain": [
       "(1000, 3)"
      ]
     },
     "execution_count": 4,
     "metadata": {},
     "output_type": "execute_result"
    }
   ],
   "source": [
    "df_exper.shape"
   ]
  },
  {
   "cell_type": "code",
   "execution_count": 5,
   "metadata": {},
   "outputs": [
    {
     "data": {
      "text/plain": [
       "array(['Control', 'Treatment'], dtype=object)"
      ]
     },
     "execution_count": 5,
     "metadata": {},
     "output_type": "execute_result"
    }
   ],
   "source": [
    "df_exper.experimentVariant.unique()"
   ]
  },
  {
   "cell_type": "code",
   "execution_count": 6,
   "metadata": {},
   "outputs": [],
   "source": [
    "df_exper['value'] = df_exper['value'].str.replace(',', '.').astype(float)"
   ]
  },
  {
   "cell_type": "code",
   "execution_count": 7,
   "metadata": {
    "scrolled": true
   },
   "outputs": [
    {
     "data": {
      "text/plain": [
       "Unnamed: 0             int64\n",
       "value                float64\n",
       "experimentVariant     object\n",
       "dtype: object"
      ]
     },
     "execution_count": 7,
     "metadata": {},
     "output_type": "execute_result"
    }
   ],
   "source": [
    "df_exper.dtypes"
   ]
  },
  {
   "cell_type": "code",
   "execution_count": 8,
   "metadata": {},
   "outputs": [],
   "source": [
    "df_exper_test = df_exper.query(\"experimentVariant == 'Treatment'\")\n",
    "df_exper_control = df_exper.query(\"experimentVariant == 'Control'\")"
   ]
  },
  {
   "cell_type": "code",
   "execution_count": 9,
   "metadata": {},
   "outputs": [
    {
     "data": {
      "text/plain": [
       "(500, 3)"
      ]
     },
     "execution_count": 9,
     "metadata": {},
     "output_type": "execute_result"
    }
   ],
   "source": [
    "df_exper_control.shape"
   ]
  },
  {
   "cell_type": "code",
   "execution_count": 10,
   "metadata": {},
   "outputs": [
    {
     "data": {
      "text/plain": [
       "<matplotlib.axes._subplots.AxesSubplot at 0x7ff16e12c080>"
      ]
     },
     "execution_count": 10,
     "metadata": {},
     "output_type": "execute_result"
    },
    {
     "data": {
      "image/png": "[encoded data removed]",
      "text/plain": [
       "<Figure size 432x288 with 1 Axes>"
      ]
     },
     "metadata": {},
     "output_type": "display_data"
    }
   ],
   "source": [
    "sns.distplot(np.log(df_exper_control.value))"
   ]
  },
  {
   "cell_type": "code",
   "execution_count": 11,
   "metadata": {},
   "outputs": [
    {
     "data": {
      "text/plain": [
       "(500, 3)"
      ]
     },
     "execution_count": 11,
     "metadata": {},
     "output_type": "execute_result"
    }
   ],
   "source": [
    "df_exper_test.shape"
   ]
  },
  {
   "cell_type": "code",
   "execution_count": 12,
   "metadata": {},
   "outputs": [
    {
     "data": {
      "text/plain": [
       "<matplotlib.axes._subplots.AxesSubplot at 0x7ff16c036048>"
      ]
     },
     "execution_count": 12,
     "metadata": {},
     "output_type": "execute_result"
    },
    {
     "data": {
      "image/png": "[encoded data removed]",
      "text/plain": [
       "<Figure size 432x288 with 1 Axes>"
      ]
     },
     "metadata": {},
     "output_type": "display_data"
    }
   ],
   "source": [
    "sns.distplot(np.log(df_exper_test.value))"
   ]
  },
  {
   "cell_type": "code",
   "execution_count": 13,
   "metadata": {},
   "outputs": [],
   "source": [
    "# С помощью U-критерия Манна-Уитни исследуем значимо ли различаются распределения или нет"
   ]
  },
  {
   "cell_type": "code",
   "execution_count": 14,
   "metadata": {},
   "outputs": [
    {
     "data": {
      "text/plain": [
       "MannwhitneyuResult(statistic=124189.5, pvalue=0.42960742912427896)"
      ]
     },
     "execution_count": 14,
     "metadata": {},
     "output_type": "execute_result"
    }
   ],
   "source": [
    "mannwhitneyu(df_exper_test.value, df_exper_control.value)"
   ]
  },
  {
   "cell_type": "code",
   "execution_count": 15,
   "metadata": {},
   "outputs": [],
   "source": [
    "# Объявим функцию, которая позволит проверять гипотезы с помощью бутстрапа"
   ]
  },
  {
   "cell_type": "code",
   "execution_count": 16,
   "metadata": {},
   "outputs": [],
   "source": [
    "def get_bootstrap_mean(\n",
    "    data_column_1, # числовые значения первой выборки\n",
    "    data_column_2, # числовые значения второй выборки\n",
    "    boot_it = 1000, # количество бутстрэп-подвыборок\n",
    "    statistic = np.mean, # интересующая нас статистика\n",
    "    bootstrap_conf_level = 0.95 # уровень значимости\n",
    "):\n",
    "    boot_len = max([len(data_column_1), len(data_column_2)])\n",
    "    boot_data = []\n",
    "    for i in tqdm(range(boot_it)): # извлекаем подвыборки\n",
    "        samples_1 = data_column_1.sample(\n",
    "            boot_len, \n",
    "            replace = True # параметр возвращения\n",
    "        ).values\n",
    "        \n",
    "        samples_2 = data_column_2.sample(\n",
    "            boot_len, \n",
    "            replace = True\n",
    "        ).values\n",
    "        \n",
    "        boot_data.append(statistic(samples_1-samples_2)) # mean() - применяем статистику\n",
    "        \n",
    "    pd_boot_data = pd.DataFrame(boot_data)\n",
    "        \n",
    "    left_quant = (1 - bootstrap_conf_level)/2\n",
    "    right_quant = 1 - (1 - bootstrap_conf_level) / 2\n",
    "    quants = pd_boot_data.quantile([left_quant, right_quant])\n",
    "    \n",
    "    p_1 = norm.cdf(\n",
    "        x = 0, \n",
    "        loc = np.mean(boot_data), \n",
    "        scale = np.std(boot_data)\n",
    "    )\n",
    "    p_2 = norm.cdf(\n",
    "        x = 0, \n",
    "        loc = -np.mean(boot_data), \n",
    "        scale = np.std(boot_data)\n",
    "    )\n",
    "    p_value = min(p_1, p_2) * 2\n",
    "        \n",
    "    # Визуализация\n",
    "    _, _, bars = plt.hist(pd_boot_data[0], bins = 50)\n",
    "    for bar in bars:\n",
    "        if abs(bar.get_x()) <= quants.iloc[0][0] or abs(bar.get_x()) >= quants.iloc[1][0]:\n",
    "            bar.set_facecolor('red')\n",
    "        else: \n",
    "            bar.set_facecolor('grey')\n",
    "            bar.set_edgecolor('black')\n",
    "    \n",
    "    plt.style.use('ggplot')\n",
    "    plt.vlines(quants,ymin=0,ymax=50,linestyle='--')\n",
    "    plt.xlabel('boot_data')\n",
    "    plt.ylabel('frequency')\n",
    "    plt.title(\"Histogram of boot_data\")\n",
    "    plt.show()\n",
    "       \n",
    "    return {\"boot_data\": boot_data, \n",
    "            \"quants\": quants, \n",
    "            \"p_value\": p_value}"
   ]
  },
  {
   "cell_type": "code",
   "execution_count": 17,
   "metadata": {},
   "outputs": [
    {
     "data": {
      "application/vnd.jupyter.widget-view+json": {
       "model_id": "f3aa54ae2d914bc8a7da6adae1c97a2f",
       "version_major": 2,
       "version_minor": 0
      },
      "text/plain": [
       "HBox(children=(FloatProgress(value=0.0, max=1000.0), HTML(value='')))"
      ]
     },
     "metadata": {},
     "output_type": "display_data"
    },
    {
     "name": "stdout",
     "output_type": "stream",
     "text": [
      "\n"
     ]
    },
    {
     "data": {
      "image/png": "[encoded data removed]",
      "text/plain": [
       "<Figure size 432x288 with 1 Axes>"
      ]
     },
     "metadata": {},
     "output_type": "display_data"
    }
   ],
   "source": [
    "booted_data_mean = get_bootstrap_mean(df_exper_test.value, df_exper_control.value) \n",
    "# в результате хранится разница двух распределений, ДИ и pvalue"
   ]
  },
  {
   "cell_type": "code",
   "execution_count": 18,
   "metadata": {},
   "outputs": [
    {
     "data": {
      "text/plain": [
       "0.03881802548771476"
      ]
     },
     "execution_count": 18,
     "metadata": {},
     "output_type": "execute_result"
    }
   ],
   "source": [
    "booted_data_mean[\"p_value\"] # альфа"
   ]
  },
  {
   "cell_type": "code",
   "execution_count": 19,
   "metadata": {},
   "outputs": [
    {
     "data": {
      "text/html": [
       "<div>\n",
       "<style scoped>\n",
       "    .dataframe tbody tr th:only-of-type {\n",
       "        vertical-align: middle;\n",
       "    }\n",
       "\n",
       "    .dataframe tbody tr th {\n",
       "        vertical-align: top;\n",
       "    }\n",
       "\n",
       "    .dataframe thead th {\n",
       "        text-align: right;\n",
       "    }\n",
       "</style>\n",
       "<table border=\"1\" class=\"dataframe\">\n",
       "  <thead>\n",
       "    <tr style=\"text-align: right;\">\n",
       "      <th></th>\n",
       "      <th>0</th>\n",
       "    </tr>\n",
       "  </thead>\n",
       "  <tbody>\n",
       "    <tr>\n",
       "      <th>0.025</th>\n",
       "      <td>4.000691</td>\n",
       "    </tr>\n",
       "    <tr>\n",
       "      <th>0.975</th>\n",
       "      <td>36.758952</td>\n",
       "    </tr>\n",
       "  </tbody>\n",
       "</table>\n",
       "</div>"
      ],
      "text/plain": [
       "               0\n",
       "0.025   4.000691\n",
       "0.975  36.758952"
      ]
     },
     "execution_count": 19,
     "metadata": {},
     "output_type": "execute_result"
    }
   ],
   "source": [
    "booted_data_mean[\"quants\"] # ДИ"
   ]
  },
  {
   "cell_type": "code",
   "execution_count": 20,
   "metadata": {},
   "outputs": [],
   "source": [
    "def get_bootstrap_median(\n",
    "    data_column_1, # числовые значения первой выборки\n",
    "    data_column_2, # числовые значения второй выборки\n",
    "    boot_it = 1000, # количество бутстрэп-подвыборок\n",
    "    statistic = np.median, # интересующая нас статистика\n",
    "    bootstrap_conf_level = 0.95 # уровень значимости\n",
    "):\n",
    "    boot_len = max([len(data_column_1), len(data_column_2)])\n",
    "    boot_data = []\n",
    "    for i in tqdm(range(boot_it)): # извлекаем подвыборки\n",
    "        samples_1 = data_column_1.sample(\n",
    "            boot_len, \n",
    "            replace = True # параметр возвращения\n",
    "        ).values\n",
    "        \n",
    "        samples_2 = data_column_2.sample(\n",
    "            boot_len, \n",
    "            replace = True\n",
    "        ).values\n",
    "        \n",
    "        boot_data.append(statistic(samples_1-samples_2)) # mean() - применяем статистику\n",
    "        \n",
    "    pd_boot_data = pd.DataFrame(boot_data)\n",
    "        \n",
    "    left_quant = (1 - bootstrap_conf_level)/2\n",
    "    right_quant = 1 - (1 - bootstrap_conf_level) / 2\n",
    "    quants = pd_boot_data.quantile([left_quant, right_quant])\n",
    "    \n",
    "    p_1 = norm.cdf(\n",
    "        x = 0, \n",
    "        loc = np.mean(boot_data), \n",
    "        scale = np.std(boot_data)\n",
    "    )\n",
    "    p_2 = norm.cdf(\n",
    "        x = 0, \n",
    "        loc = -np.mean(boot_data), \n",
    "        scale = np.std(boot_data)\n",
    "    )\n",
    "    p_value = min(p_1, p_2) * 2\n",
    "        \n",
    "    # Визуализация\n",
    "    _, _, bars = plt.hist(pd_boot_data[0], bins = 50)\n",
    "    for bar in bars:\n",
    "        if abs(bar.get_x()) <= quants.iloc[0][0] or abs(bar.get_x()) >= quants.iloc[1][0]:\n",
    "            bar.set_facecolor('red')\n",
    "        else: \n",
    "            bar.set_facecolor('grey')\n",
    "            bar.set_edgecolor('black')\n",
    "    \n",
    "    plt.style.use('ggplot')\n",
    "    plt.vlines(quants,ymin=0,ymax=50,linestyle='--')\n",
    "    plt.xlabel('boot_data')\n",
    "    plt.ylabel('frequency')\n",
    "    plt.title(\"Histogram of boot_data\")\n",
    "    plt.show()\n",
    "       \n",
    "    return {\"boot_data\": boot_data, \n",
    "            \"quants\": quants, \n",
    "            \"p_value\": p_value}"
   ]
  },
  {
   "cell_type": "code",
   "execution_count": 21,
   "metadata": {},
   "outputs": [
    {
     "data": {
      "application/vnd.jupyter.widget-view+json": {
       "model_id": "9ff0742aad144c25ad9fb188383bb98b",
       "version_major": 2,
       "version_minor": 0
      },
      "text/plain": [
       "HBox(children=(FloatProgress(value=0.0, max=1000.0), HTML(value='')))"
      ]
     },
     "metadata": {},
     "output_type": "display_data"
    },
    {
     "name": "stdout",
     "output_type": "stream",
     "text": [
      "\n"
     ]
    },
    {
     "data": {
      "image/png": "[encoded data removed]",
      "text/plain": [
       "<Figure size 432x288 with 1 Axes>"
      ]
     },
     "metadata": {},
     "output_type": "display_data"
    }
   ],
   "source": [
    "booted_data_median = get_bootstrap_median(df_exper_test.value, df_exper_control.value) \n",
    "# в результате хранится разница двух распределений, ДИ и pvalue"
   ]
  },
  {
   "cell_type": "code",
   "execution_count": 22,
   "metadata": {},
   "outputs": [
    {
     "data": {
      "text/plain": [
       "0.8255837283753734"
      ]
     },
     "execution_count": 22,
     "metadata": {},
     "output_type": "execute_result"
    }
   ],
   "source": [
    "booted_data_median[\"p_value\"] # альфа"
   ]
  },
  {
   "cell_type": "code",
   "execution_count": 23,
   "metadata": {},
   "outputs": [
    {
     "data": {
      "text/html": [
       "<div>\n",
       "<style scoped>\n",
       "    .dataframe tbody tr th:only-of-type {\n",
       "        vertical-align: middle;\n",
       "    }\n",
       "\n",
       "    .dataframe tbody tr th {\n",
       "        vertical-align: top;\n",
       "    }\n",
       "\n",
       "    .dataframe thead th {\n",
       "        text-align: right;\n",
       "    }\n",
       "</style>\n",
       "<table border=\"1\" class=\"dataframe\">\n",
       "  <thead>\n",
       "    <tr style=\"text-align: right;\">\n",
       "      <th></th>\n",
       "      <th>0</th>\n",
       "    </tr>\n",
       "  </thead>\n",
       "  <tbody>\n",
       "    <tr>\n",
       "      <th>0.025</th>\n",
       "      <td>-0.127427</td>\n",
       "    </tr>\n",
       "    <tr>\n",
       "      <th>0.975</th>\n",
       "      <td>0.159659</td>\n",
       "    </tr>\n",
       "  </tbody>\n",
       "</table>\n",
       "</div>"
      ],
      "text/plain": [
       "              0\n",
       "0.025 -0.127427\n",
       "0.975  0.159659"
      ]
     },
     "execution_count": 23,
     "metadata": {},
     "output_type": "execute_result"
    }
   ],
   "source": [
    "booted_data_median[\"quants\"] # ДИ"
   ]
  },
  {
   "cell_type": "markdown",
   "metadata": {},
   "source": [
    "### Выводы\n",
    "\n",
    "В нашем случае в каждой выборке по 500 значений. Чем больше выборка, тем больше вероятность одинаковых значений. Чем больше в двух выборках одинаковых значений, тем хуже работают ранговые методы. На графиках мы видим, что у нас есть большое количество пересечений в выборках. Значение p-value 0.43, что говорит нам о том, что нулевую гипотезу об отсуствии различий у наших распределений мы не отвергаем.\n",
    "Бутстрап при исследовании медиан наших выборок выдал нам p-value = 0.83, мы можем сделать вывод, что наши различия по медианам не статзначимы.\n",
    "\n",
    "При этом Бутстрап в случае с оценкой в распределениях среднего дает нам статзначимые различия (p-value = 0.039). \n",
    "Таким образом Бутстрап нам дает более конкретную оценку наших распределений.\n",
    "\n",
    "Манн-Уитни и Бутстрап проверяют разные гипотезы. С помощью бутстрапа мы проверяем нулевую гипотезу о равенстве средних, а Манн-Уитни о равенстве распределений. Что значит равенство распределений? Это значит, что случайно выбранное значение из одной выборки может быть равновероятно больше или меньше случайного значения из другой выборки (проверяется не только медиана).\n",
    "\n",
    "Манн-Уитни как и любой статистический оценщик не очень приветлив к дисбалансу. Это сказывается в первую очередь на мощности критерия – чем сильнее дисбаланс, тем реже критерий будет обнаруживать реальную разницу (эффект). \n",
    "\n",
    "* Тестовая выборка имеет большие выбросы, что сильно искажает нам среднее значение\n",
    "* Применяя бутстрап с оценкой среднего, мы могли бы отклонить нулевую гипотезу о равенстве средних и сделать вывод, что тестовая и контрольная выборка имеют различия\n",
    "* Однако, тот же бутстрап, но уже по медиане не дает нам отклонить нулевую гипотезу, так как p-value сильно больше 0.05, т.к. здесь проверяется другая гипотеза\n",
    "* U-критерий Манна-Уитни так же не дал бы нам отклонить нулевую гипотезу. Оценки pvalue так же направлены как у бутстрапирования медианы\n",
    "\n"
   ]
  },
  {
   "cell_type": "markdown",
   "metadata": {},
   "source": [
    "#### Минипроект 4\n",
    "\n",
    "А/А-тестирование мобильного приложения. Необходимо посчитать результаты A/A-теста, проверяя метрику качества FPR (будем проверять на конверсии в покупку). Известно, что сплит-система сломана. Требуется проверить утверждение о поломке и найти ее причины, если сплит-система действительно сломана\n",
    "\n",
    "Описание колонок\n",
    " * experimentVariant – вариант эксперимента\n",
    " * version – версия приложения\n",
    " * purchase – факт покупки\n",
    "\n",
    "1. Запустите A/A-тест\n",
    "2. Посчитайте FPR на уровне альфа = 0.05 (ставьте подвыборки без возвращения объемом 1000). Вы увидите, что FPR > альфа! Нам нужно наоборот – чтобы было меньше.\n",
    "3. Найдите причины поломки сплит-системы, ориентируясь на результаты эксперимента (подсказка: найдите аномалию в версии приложения)\n",
    "4. Напишите выводы, которые можно сделать на основе анализа результатов A/A-теста"
   ]
  },
  {
   "cell_type": "code",
   "execution_count": 2,
   "metadata": {},
   "outputs": [],
   "source": [
    "import numpy as np\n",
    "import pandas as pd\n",
    "from scipy import stats\n",
    "import matplotlib.pyplot as plt\n",
    "\n",
    "from tqdm.auto import tqdm"
   ]
  },
  {
   "cell_type": "code",
   "execution_count": 1,
   "metadata": {},
   "outputs": [],
   "source": [
    "path = 'https://stepik.org/media/attachments/lesson/396012/hw_aa.csv'"
   ]
  },
  {
   "cell_type": "code",
   "execution_count": 7,
   "metadata": {},
   "outputs": [],
   "source": [
    "df = pd.read_csv(path, sep=';')"
   ]
  },
  {
   "cell_type": "code",
   "execution_count": 8,
   "metadata": {},
   "outputs": [
    {
     "data": {
      "text/html": [
       "<div>\n",
       "<style scoped>\n",
       "    .dataframe tbody tr th:only-of-type {\n",
       "        vertical-align: middle;\n",
       "    }\n",
       "\n",
       "    .dataframe tbody tr th {\n",
       "        vertical-align: top;\n",
       "    }\n",
       "\n",
       "    .dataframe thead th {\n",
       "        text-align: right;\n",
       "    }\n",
       "</style>\n",
       "<table border=\"1\" class=\"dataframe\">\n",
       "  <thead>\n",
       "    <tr style=\"text-align: right;\">\n",
       "      <th></th>\n",
       "      <th>Unnamed: 0</th>\n",
       "      <th>uid</th>\n",
       "      <th>experimentVariant</th>\n",
       "      <th>version</th>\n",
       "      <th>purchase</th>\n",
       "    </tr>\n",
       "  </thead>\n",
       "  <tbody>\n",
       "    <tr>\n",
       "      <th>0</th>\n",
       "      <td>1</td>\n",
       "      <td>c4ca4238a0b923820dcc509a6f75849b</td>\n",
       "      <td>1</td>\n",
       "      <td>v2.8.0</td>\n",
       "      <td>0</td>\n",
       "    </tr>\n",
       "    <tr>\n",
       "      <th>1</th>\n",
       "      <td>2</td>\n",
       "      <td>c81e728d9d4c2f636f067f89cc14862c</td>\n",
       "      <td>0</td>\n",
       "      <td>v2.9.0</td>\n",
       "      <td>0</td>\n",
       "    </tr>\n",
       "    <tr>\n",
       "      <th>2</th>\n",
       "      <td>3</td>\n",
       "      <td>eccbc87e4b5ce2fe28308fd9f2a7baf3</td>\n",
       "      <td>1</td>\n",
       "      <td>v2.9.0</td>\n",
       "      <td>0</td>\n",
       "    </tr>\n",
       "    <tr>\n",
       "      <th>3</th>\n",
       "      <td>4</td>\n",
       "      <td>a87ff679a2f3e71d9181a67b7542122c</td>\n",
       "      <td>1</td>\n",
       "      <td>v2.8.0</td>\n",
       "      <td>0</td>\n",
       "    </tr>\n",
       "    <tr>\n",
       "      <th>4</th>\n",
       "      <td>5</td>\n",
       "      <td>e4da3b7fbbce2345d7772b0674a318d5</td>\n",
       "      <td>1</td>\n",
       "      <td>v2.8.0</td>\n",
       "      <td>0</td>\n",
       "    </tr>\n",
       "  </tbody>\n",
       "</table>\n",
       "</div>"
      ],
      "text/plain": [
       "   Unnamed: 0                               uid  experimentVariant version  \\\n",
       "0           1  c4ca4238a0b923820dcc509a6f75849b                  1  v2.8.0   \n",
       "1           2  c81e728d9d4c2f636f067f89cc14862c                  0  v2.9.0   \n",
       "2           3  eccbc87e4b5ce2fe28308fd9f2a7baf3                  1  v2.9.0   \n",
       "3           4  a87ff679a2f3e71d9181a67b7542122c                  1  v2.8.0   \n",
       "4           5  e4da3b7fbbce2345d7772b0674a318d5                  1  v2.8.0   \n",
       "\n",
       "   purchase  \n",
       "0         0  \n",
       "1         0  \n",
       "2         0  \n",
       "3         0  \n",
       "4         0  "
      ]
     },
     "execution_count": 8,
     "metadata": {},
     "output_type": "execute_result"
    }
   ],
   "source": [
    "df.head()"
   ]
  },
  {
   "cell_type": "code",
   "execution_count": 13,
   "metadata": {},
   "outputs": [
    {
     "data": {
      "text/plain": [
       "(127018, 5)"
      ]
     },
     "execution_count": 13,
     "metadata": {},
     "output_type": "execute_result"
    }
   ],
   "source": [
    "df.shape"
   ]
  },
  {
   "cell_type": "code",
   "execution_count": 10,
   "metadata": {},
   "outputs": [
    {
     "data": {
      "text/plain": [
       "array(['v2.8.0', 'v2.9.0', 'v3.7.4.0', 'v3.8.0.0'], dtype=object)"
      ]
     },
     "execution_count": 10,
     "metadata": {},
     "output_type": "execute_result"
    }
   ],
   "source": [
    "df.version.unique()"
   ]
  },
  {
   "cell_type": "code",
   "execution_count": 11,
   "metadata": {},
   "outputs": [
    {
     "data": {
      "text/plain": [
       "array([1, 0])"
      ]
     },
     "execution_count": 11,
     "metadata": {},
     "output_type": "execute_result"
    }
   ],
   "source": [
    "df.experimentVariant.unique()"
   ]
  },
  {
   "cell_type": "markdown",
   "metadata": {},
   "source": [
    "#### Проведем A/A-тест для нашего мобильного приложения"
   ]
  },
  {
   "cell_type": "code",
   "execution_count": 15,
   "metadata": {
    "scrolled": true
   },
   "outputs": [
    {
     "data": {
      "application/vnd.jupyter.widget-view+json": {
       "model_id": "7a1950bfc4204f7f8a8bd4809f4e2d32",
       "version_major": 2,
       "version_minor": 0
      },
      "text/plain": [
       "HBox(children=(FloatProgress(value=0.0, max=1000.0), HTML(value='')))"
      ]
     },
     "metadata": {},
     "output_type": "display_data"
    },
    {
     "name": "stdout",
     "output_type": "stream",
     "text": [
      "\n"
     ]
    },
    {
     "data": {
      "image/png": "[encoded data removed]",
      "text/plain": [
       "<Figure size 432x288 with 1 Axes>"
      ]
     },
     "metadata": {},
     "output_type": "display_data"
    },
    {
     "data": {
      "text/plain": [
       "0.923"
      ]
     },
     "execution_count": 15,
     "metadata": {},
     "output_type": "execute_result"
    }
   ],
   "source": [
    "n = 100000\n",
    "simulations = 1000\n",
    "n_s = 1000\n",
    "res = []\n",
    "\n",
    "\n",
    "# Запуск симуляций A/A теста\n",
    "for i in tqdm(range(simulations)):\n",
    "    s1 = df[df.experimentVariant == 1]['purchase'].sample(n_s, replace = False).values\n",
    "    s2 = df[df.experimentVariant == 0]['purchase'].sample(n_s, replace = False).values\n",
    "    res.append(stats.ttest_ind(s1, s2, equal_var = False)[1]) # сохраняем pvalue\n",
    "\n",
    "plt.hist(res, bins = 50)\n",
    "plt.style.use('ggplot')\n",
    "plt.xlabel('pvalues')\n",
    "plt.ylabel('frequency')\n",
    "plt.title(\"Histogram of ttest A/A simulations \")\n",
    "plt.show()\n",
    "\n",
    "# Проверяем, что количество ложноположительных случаев не превышает альфа\n",
    "sum(np.array(res) <0.05) / simulations"
   ]
  },
  {
   "cell_type": "markdown",
   "metadata": {},
   "source": [
    "Мы видим, что распределение p-value не походит на равномерное, сильно скошено влево и показатель FPR сильно превышает уровень альфа, таким образом А/А тест не сходится и система сплитования работает некорректно."
   ]
  },
  {
   "cell_type": "markdown",
   "metadata": {},
   "source": [
    "#### Исследуем конверсии покупок с разбиением на экспериментальные группы 0 и 1"
   ]
  },
  {
   "cell_type": "code",
   "execution_count": 19,
   "metadata": {},
   "outputs": [
    {
     "data": {
      "text/html": [
       "<div>\n",
       "<style scoped>\n",
       "    .dataframe tbody tr th:only-of-type {\n",
       "        vertical-align: middle;\n",
       "    }\n",
       "\n",
       "    .dataframe tbody tr th {\n",
       "        vertical-align: top;\n",
       "    }\n",
       "\n",
       "    .dataframe thead th {\n",
       "        text-align: right;\n",
       "    }\n",
       "</style>\n",
       "<table border=\"1\" class=\"dataframe\">\n",
       "  <thead>\n",
       "    <tr style=\"text-align: right;\">\n",
       "      <th></th>\n",
       "      <th>experimentVariant</th>\n",
       "      <th>purchase</th>\n",
       "    </tr>\n",
       "  </thead>\n",
       "  <tbody>\n",
       "    <tr>\n",
       "      <th>0</th>\n",
       "      <td>0</td>\n",
       "      <td>0.023945</td>\n",
       "    </tr>\n",
       "    <tr>\n",
       "      <th>1</th>\n",
       "      <td>1</td>\n",
       "      <td>0.053242</td>\n",
       "    </tr>\n",
       "  </tbody>\n",
       "</table>\n",
       "</div>"
      ],
      "text/plain": [
       "   experimentVariant  purchase\n",
       "0                  0  0.023945\n",
       "1                  1  0.053242"
      ]
     },
     "execution_count": 19,
     "metadata": {},
     "output_type": "execute_result"
    }
   ],
   "source": [
    "df.groupby('experimentVariant', as_index=False) \\\n",
    "    .agg({'purchase': 'mean'})"
   ]
  },
  {
   "cell_type": "markdown",
   "metadata": {},
   "source": [
    "Посмотрев на конверсии покупок с разбиением на группы, мы видим, что они отличаются, визуально кажется, что сильной разницы нет, но следует продолжить эксперимент и найти в каких подкатегориях есть существенные различия."
   ]
  },
  {
   "cell_type": "markdown",
   "metadata": {},
   "source": [
    "#### Посмотрим подробнее на конверсии с разбиением по версии приложения"
   ]
  },
  {
   "cell_type": "code",
   "execution_count": 30,
   "metadata": {},
   "outputs": [],
   "source": [
    "df_conv = df.groupby(['experimentVariant', 'version'], as_index=False) \\\n",
    "    .agg({'purchase': 'mean', 'Unnamed: 0': 'count'})"
   ]
  },
  {
   "cell_type": "code",
   "execution_count": 31,
   "metadata": {},
   "outputs": [
    {
     "data": {
      "text/html": [
       "<div>\n",
       "<style scoped>\n",
       "    .dataframe tbody tr th:only-of-type {\n",
       "        vertical-align: middle;\n",
       "    }\n",
       "\n",
       "    .dataframe tbody tr th {\n",
       "        vertical-align: top;\n",
       "    }\n",
       "\n",
       "    .dataframe thead th {\n",
       "        text-align: right;\n",
       "    }\n",
       "</style>\n",
       "<table border=\"1\" class=\"dataframe\">\n",
       "  <thead>\n",
       "    <tr style=\"text-align: right;\">\n",
       "      <th></th>\n",
       "      <th>experimentVariant</th>\n",
       "      <th>version</th>\n",
       "      <th>purchase</th>\n",
       "      <th>Unnamed: 0</th>\n",
       "    </tr>\n",
       "  </thead>\n",
       "  <tbody>\n",
       "    <tr>\n",
       "      <th>0</th>\n",
       "      <td>0</td>\n",
       "      <td>v2.8.0</td>\n",
       "      <td>0.000993</td>\n",
       "      <td>41283</td>\n",
       "    </tr>\n",
       "    <tr>\n",
       "      <th>1</th>\n",
       "      <td>0</td>\n",
       "      <td>v2.9.0</td>\n",
       "      <td>0.074658</td>\n",
       "      <td>11921</td>\n",
       "    </tr>\n",
       "    <tr>\n",
       "      <th>2</th>\n",
       "      <td>0</td>\n",
       "      <td>v3.7.4.0</td>\n",
       "      <td>0.059943</td>\n",
       "      <td>4204</td>\n",
       "    </tr>\n",
       "    <tr>\n",
       "      <th>3</th>\n",
       "      <td>0</td>\n",
       "      <td>v3.8.0.0</td>\n",
       "      <td>0.057604</td>\n",
       "      <td>5694</td>\n",
       "    </tr>\n",
       "    <tr>\n",
       "      <th>4</th>\n",
       "      <td>1</td>\n",
       "      <td>v2.8.0</td>\n",
       "      <td>0.045606</td>\n",
       "      <td>41552</td>\n",
       "    </tr>\n",
       "    <tr>\n",
       "      <th>5</th>\n",
       "      <td>1</td>\n",
       "      <td>v2.9.0</td>\n",
       "      <td>0.071304</td>\n",
       "      <td>12033</td>\n",
       "    </tr>\n",
       "    <tr>\n",
       "      <th>6</th>\n",
       "      <td>1</td>\n",
       "      <td>v3.7.4.0</td>\n",
       "      <td>0.063018</td>\n",
       "      <td>4221</td>\n",
       "    </tr>\n",
       "    <tr>\n",
       "      <th>7</th>\n",
       "      <td>1</td>\n",
       "      <td>v3.8.0.0</td>\n",
       "      <td>0.062848</td>\n",
       "      <td>6110</td>\n",
       "    </tr>\n",
       "  </tbody>\n",
       "</table>\n",
       "</div>"
      ],
      "text/plain": [
       "   experimentVariant   version  purchase  Unnamed: 0\n",
       "0                  0    v2.8.0  0.000993       41283\n",
       "1                  0    v2.9.0  0.074658       11921\n",
       "2                  0  v3.7.4.0  0.059943        4204\n",
       "3                  0  v3.8.0.0  0.057604        5694\n",
       "4                  1    v2.8.0  0.045606       41552\n",
       "5                  1    v2.9.0  0.071304       12033\n",
       "6                  1  v3.7.4.0  0.063018        4221\n",
       "7                  1  v3.8.0.0  0.062848        6110"
      ]
     },
     "execution_count": 31,
     "metadata": {},
     "output_type": "execute_result"
    }
   ],
   "source": [
    "df_conv"
   ]
  },
  {
   "cell_type": "markdown",
   "metadata": {},
   "source": [
    "Мы видим, что разбиение на группы работает приблизительно одинаково, а значит система сплитования работает хорошо. \n",
    "Но при этом в группах для версии v2.8.0 конверсии покупок сильно разнятся и в случае с группой (experimentVariant = 0) конверсия практически равна 0. И это очень существенные различия, с учетом того, что выборки достаточно большие (41283 и 41552)"
   ]
  },
  {
   "cell_type": "markdown",
   "metadata": {},
   "source": [
    "#### Посчитаем значения p-value для каждой версии мобильного приложения, чтобы убедиться в наших наблюдениях более точно"
   ]
  },
  {
   "cell_type": "code",
   "execution_count": 45,
   "metadata": {},
   "outputs": [
    {
     "data": {
      "text/plain": [
       "Ttest_indResult(statistic=-0.9979597634962479, pvalue=0.31830895167207446)"
      ]
     },
     "execution_count": 45,
     "metadata": {},
     "output_type": "execute_result"
    }
   ],
   "source": [
    "stats.ttest_ind(df[(df.experimentVariant == 1) & (df.version == 'v2.9.0')]['purchase'], \\\n",
    "                df[(df.experimentVariant == 0) & (df.version == 'v2.9.0')]['purchase'])\n"
   ]
  },
  {
   "cell_type": "code",
   "execution_count": 46,
   "metadata": {},
   "outputs": [
    {
     "data": {
      "text/plain": [
       "Ttest_indResult(statistic=42.963540840360324, pvalue=0.0)"
      ]
     },
     "execution_count": 46,
     "metadata": {},
     "output_type": "execute_result"
    }
   ],
   "source": [
    "stats.ttest_ind(df[(df.experimentVariant == 1) & (df.version == 'v2.8.0')]['purchase'], \\\n",
    "                df[(df.experimentVariant == 0) & (df.version == 'v2.8.0')]['purchase'])\n"
   ]
  },
  {
   "cell_type": "code",
   "execution_count": 47,
   "metadata": {},
   "outputs": [
    {
     "data": {
      "text/plain": [
       "Ttest_indResult(statistic=0.5874925850487471, pvalue=0.5568886771079735)"
      ]
     },
     "execution_count": 47,
     "metadata": {},
     "output_type": "execute_result"
    }
   ],
   "source": [
    "stats.ttest_ind(df[(df.experimentVariant == 1) & (df.version == 'v3.7.4.0')]['purchase'], \\\n",
    "                df[(df.experimentVariant == 0) & (df.version == 'v3.7.4.0')]['purchase'])\n"
   ]
  },
  {
   "cell_type": "code",
   "execution_count": 48,
   "metadata": {},
   "outputs": [
    {
     "data": {
      "text/plain": [
       "Ttest_indResult(statistic=1.1956188950206779, pvalue=0.23186933664059722)"
      ]
     },
     "execution_count": 48,
     "metadata": {},
     "output_type": "execute_result"
    }
   ],
   "source": [
    "stats.ttest_ind(df[(df.experimentVariant == 1) & (df.version == 'v3.8.0.0')]['purchase'], \\\n",
    "                df[(df.experimentVariant == 0) & (df.version == 'v3.8.0.0')]['purchase'])\n"
   ]
  },
  {
   "cell_type": "markdown",
   "metadata": {},
   "source": [
    "Как видим, именно для версии v2.8.0 наши группы отличаются статзначимо (p-value < 0.05), поэтому нам следует проверить нашу систему сплитования исключив эту версию из выборок"
   ]
  },
  {
   "cell_type": "markdown",
   "metadata": {},
   "source": [
    "#### Уберем из выборки версию приложения v2.8.0 и снова запустим А/А тест"
   ]
  },
  {
   "cell_type": "code",
   "execution_count": 24,
   "metadata": {},
   "outputs": [
    {
     "data": {
      "application/vnd.jupyter.widget-view+json": {
       "model_id": "d1c99093208d4e55ba3a6ba0b58ad2bb",
       "version_major": 2,
       "version_minor": 0
      },
      "text/plain": [
       "HBox(children=(FloatProgress(value=0.0, max=1000.0), HTML(value='')))"
      ]
     },
     "metadata": {},
     "output_type": "display_data"
    },
    {
     "name": "stdout",
     "output_type": "stream",
     "text": [
      "\n"
     ]
    },
    {
     "data": {
      "image/png": "[encoded data removed]",
      "text/plain": [
       "<Figure size 432x288 with 1 Axes>"
      ]
     },
     "metadata": {},
     "output_type": "display_data"
    },
    {
     "data": {
      "text/plain": [
       "0.028"
      ]
     },
     "execution_count": 24,
     "metadata": {},
     "output_type": "execute_result"
    }
   ],
   "source": [
    "simulations = 1000\n",
    "n_s = 1000\n",
    "res = []\n",
    "\n",
    "\n",
    "# Запуск симуляций A/A теста\n",
    "for i in tqdm(range(simulations)):\n",
    "    s1 = df[(df.experimentVariant == 1) & (df.version != 'v2.8.0')]['purchase'].sample(n_s, replace = False).values\n",
    "    s2 = df[(df.experimentVariant == 0) & (df.version != 'v2.8.0')]['purchase'].sample(n_s, replace = False).values\n",
    "    res.append(stats.ttest_ind(s1, s2, equal_var = False)[1]) # сохраняем pvalue\n",
    "\n",
    "plt.hist(res, bins = 50)\n",
    "plt.style.use('ggplot')\n",
    "plt.xlabel('pvalues')\n",
    "plt.ylabel('frequency')\n",
    "plt.title(\"Histogram of ttest A/A simulations \")\n",
    "plt.show()\n",
    "\n",
    "# Проверяем, что количество ложноположительных случаев не превышает альфа\n",
    "sum(np.array(res) <0.05) / simulations"
   ]
  },
  {
   "cell_type": "markdown",
   "metadata": {},
   "source": [
    "По результатам теста мы видим, что FPR не превышает уровень альфа, таким образом мы статистически доказали, что различия в конверсиях где версия приложения была v2.8.0 и были причиной поломки сплит-системы"
   ]
  },
  {
   "cell_type": "markdown",
   "metadata": {},
   "source": [
    "#### Выводы\n",
    "\n",
    "Проделав наш эксперимент, мы убедились в важности А/А тестов и необходимости их проведения еще до А/Б тестов, дабы исключить вероятность получаемых изменений в результате неправильной(некачественной) системы сплитования. Для того, чтобы обнаружить, что же сломало А/А тест, нужно обратить внимание на различные срезы наших данных и их комбинации, посмотреть глубже в данные и изучить их. Потом повторить тест уже с выбросом тех параметров, которые давали различия и посмотреть на новые результаты и сделать выводы. \n",
    "\n",
    "В нашем случае, разделение на группы по версии приложения v2.8.0 произошло некорректно, есть дисбаланс по количеству покупок в группах 1 и 0. Исключив эту версию мы получили уже равномерное распределние p-value и корректное значение метрики качества FPR. У этих данных корректная сплит-система."
   ]
  },
  {
   "cell_type": "markdown",
   "metadata": {},
   "source": [
    "#### Минипроект 5\n",
    "В базе данных вашей компании присутствуют следующие таблицы\n",
    "\n",
    "- city\n",
    "    - city_id – id города, где проходит акция\n",
    "    - client_city_id – id города, где находится покупатель\n",
    "    - city – город\n",
    "    - client_city – город, где находится покупатель\n",
    "- client\n",
    "    - client_id – id покупателя\n",
    "    - client_city_id – id города, где находится покупатель\n",
    "    - birth_date – дата рождения покупателя\n",
    "    - registration – дата регистрации покупателя\n",
    "- promotion\n",
    "    - promotion_id – id акции\n",
    "    - category_id – id категории\n",
    "    - promotion_name – акция\n",
    "    - category_name – категория\n",
    "    - partner_id – id партнёра\n",
    "    - partner_name – партнёр\n",
    "- purchase\n",
    "    - purchase_id – id покупки\n",
    "    - partner_id – id партнёра\n",
    "    - client_id – id покупателя\n",
    "    - city_id – id города\n",
    "    - promotion_id – id акции\n",
    "    - category_id – id категории\n",
    "    - purchase_date – дата покупки\n",
    "    - price – цена за единицу товара\n",
    "    - quantity – число проданных единиц\n",
    "    - status – статус покупки\n",
    "\n",
    "Вам нужно написать запрос, чтобы получить такую таблицу\n",
    "\n",
    "- purchase_date – дата покупки\n",
    "- purchase_id – id покупки\n",
    "- client_id – id покупателя\n",
    "- client_age – возраст покупателя\n",
    "- client_registration_age – как долго человек пользуется вашими магазинами\n",
    "- client_category – содержит new или old, если это первая или последующая покупка соответственно\n",
    "- promotion_name – акция\n",
    "- category_name – категория\n",
    "- partner_name – партнёр\n",
    "- client_city – город, где находится покупатель\n",
    "- city – город\n",
    "- revenue – сумма выручки\n",
    "- quantity – число проданных единиц\n",
    "\n",
    "При этом в таблице должны присутствовать только значения, где в поле status стоит значение 1, и только те, где purchase_date находится в диапазоне от 01.05.2020 до 01.08.2020\n",
    "\n",
    "База данных доступна по имени project_variant_2"
   ]
  },
  {
   "cell_type": "code",
   "execution_count": 1,
   "metadata": {},
   "outputs": [],
   "source": [
    "import pandahouse as ph\n",
    "import pandas as pd"
   ]
  },
  {
   "cell_type": "code",
   "execution_count": 2,
   "metadata": {},
   "outputs": [],
   "source": [
    "#объявляем параметры подключения\n",
    "connection_default = {'host': 'http://clickhouse.beslan.pro:8080',\n",
    "                      'database':'default',\n",
    "                      'user':'student', \n",
    "                      'password':'dpo_python_2020'\n",
    "                     }"
   ]
  },
  {
   "cell_type": "code",
   "execution_count": 4,
   "metadata": {},
   "outputs": [
    {
     "data": {
      "text/html": [
       "<div>\n",
       "<style scoped>\n",
       "    .dataframe tbody tr th:only-of-type {\n",
       "        vertical-align: middle;\n",
       "    }\n",
       "\n",
       "    .dataframe tbody tr th {\n",
       "        vertical-align: top;\n",
       "    }\n",
       "\n",
       "    .dataframe thead th {\n",
       "        text-align: right;\n",
       "    }\n",
       "</style>\n",
       "<table border=\"1\" class=\"dataframe\">\n",
       "  <thead>\n",
       "    <tr style=\"text-align: right;\">\n",
       "      <th></th>\n",
       "      <th>purchase_date</th>\n",
       "      <th>purchase_id</th>\n",
       "      <th>client_id</th>\n",
       "      <th>client_age</th>\n",
       "      <th>client_registration_age</th>\n",
       "      <th>client_category</th>\n",
       "      <th>promotion_name</th>\n",
       "      <th>category_name</th>\n",
       "      <th>partner_name</th>\n",
       "      <th>client_city</th>\n",
       "      <th>city</th>\n",
       "      <th>revenue</th>\n",
       "      <th>quantity</th>\n",
       "    </tr>\n",
       "  </thead>\n",
       "  <tbody>\n",
       "    <tr>\n",
       "      <th>0</th>\n",
       "      <td>2020-05-01</td>\n",
       "      <td>470</td>\n",
       "      <td>918</td>\n",
       "      <td>23</td>\n",
       "      <td>571</td>\n",
       "      <td>old</td>\n",
       "      <td>campaign_2</td>\n",
       "      <td>Фрукты</td>\n",
       "      <td>ООО Ширяева, Хохлова и Тимофеева</td>\n",
       "      <td>Щучинщина</td>\n",
       "      <td>Москва</td>\n",
       "      <td>660</td>\n",
       "      <td>4</td>\n",
       "    </tr>\n",
       "    <tr>\n",
       "      <th>1</th>\n",
       "      <td>2020-05-01</td>\n",
       "      <td>470</td>\n",
       "      <td>918</td>\n",
       "      <td>23</td>\n",
       "      <td>571</td>\n",
       "      <td>old</td>\n",
       "      <td>campaign_2</td>\n",
       "      <td>Фрукты</td>\n",
       "      <td>ООО Ширяева, Хохлова и Тимофеева</td>\n",
       "      <td>Щучинщина</td>\n",
       "      <td>Санкт-Петербург</td>\n",
       "      <td>660</td>\n",
       "      <td>4</td>\n",
       "    </tr>\n",
       "    <tr>\n",
       "      <th>2</th>\n",
       "      <td>2020-05-01</td>\n",
       "      <td>470</td>\n",
       "      <td>918</td>\n",
       "      <td>23</td>\n",
       "      <td>571</td>\n",
       "      <td>old</td>\n",
       "      <td>campaign_2</td>\n",
       "      <td>Фрукты</td>\n",
       "      <td>ООО Ширяева, Хохлова и Тимофеева</td>\n",
       "      <td>Щучинщина</td>\n",
       "      <td>Новгород</td>\n",
       "      <td>660</td>\n",
       "      <td>4</td>\n",
       "    </tr>\n",
       "    <tr>\n",
       "      <th>3</th>\n",
       "      <td>2020-05-01</td>\n",
       "      <td>470</td>\n",
       "      <td>918</td>\n",
       "      <td>23</td>\n",
       "      <td>571</td>\n",
       "      <td>old</td>\n",
       "      <td>campaign_2</td>\n",
       "      <td>Фрукты</td>\n",
       "      <td>ООО Ширяева, Хохлова и Тимофеева</td>\n",
       "      <td>Щучинщина</td>\n",
       "      <td>Минск</td>\n",
       "      <td>660</td>\n",
       "      <td>4</td>\n",
       "    </tr>\n",
       "    <tr>\n",
       "      <th>4</th>\n",
       "      <td>2020-05-01</td>\n",
       "      <td>470</td>\n",
       "      <td>918</td>\n",
       "      <td>23</td>\n",
       "      <td>571</td>\n",
       "      <td>old</td>\n",
       "      <td>campaign_2</td>\n",
       "      <td>Фрукты</td>\n",
       "      <td>ООО Ширяева, Хохлова и Тимофеева</td>\n",
       "      <td>Щучинщина</td>\n",
       "      <td>Ярославль</td>\n",
       "      <td>660</td>\n",
       "      <td>4</td>\n",
       "    </tr>\n",
       "    <tr>\n",
       "      <th>...</th>\n",
       "      <td>...</td>\n",
       "      <td>...</td>\n",
       "      <td>...</td>\n",
       "      <td>...</td>\n",
       "      <td>...</td>\n",
       "      <td>...</td>\n",
       "      <td>...</td>\n",
       "      <td>...</td>\n",
       "      <td>...</td>\n",
       "      <td>...</td>\n",
       "      <td>...</td>\n",
       "      <td>...</td>\n",
       "      <td>...</td>\n",
       "    </tr>\n",
       "    <tr>\n",
       "      <th>23446</th>\n",
       "      <td>2020-08-01</td>\n",
       "      <td>8247</td>\n",
       "      <td>279</td>\n",
       "      <td>21</td>\n",
       "      <td>639</td>\n",
       "      <td>old</td>\n",
       "      <td>campaign_4</td>\n",
       "      <td>Прочее</td>\n",
       "      <td>KarpovCourses</td>\n",
       "      <td>Казань</td>\n",
       "      <td>Минск</td>\n",
       "      <td>735</td>\n",
       "      <td>7</td>\n",
       "    </tr>\n",
       "    <tr>\n",
       "      <th>23447</th>\n",
       "      <td>2020-08-01</td>\n",
       "      <td>8247</td>\n",
       "      <td>279</td>\n",
       "      <td>21</td>\n",
       "      <td>639</td>\n",
       "      <td>old</td>\n",
       "      <td>campaign_4</td>\n",
       "      <td>Прочее</td>\n",
       "      <td>KarpovCourses</td>\n",
       "      <td>Казань</td>\n",
       "      <td>Ярославль</td>\n",
       "      <td>735</td>\n",
       "      <td>7</td>\n",
       "    </tr>\n",
       "    <tr>\n",
       "      <th>23448</th>\n",
       "      <td>2020-08-01</td>\n",
       "      <td>8247</td>\n",
       "      <td>279</td>\n",
       "      <td>21</td>\n",
       "      <td>639</td>\n",
       "      <td>old</td>\n",
       "      <td>campaign_4</td>\n",
       "      <td>Прочее</td>\n",
       "      <td>KarpovCourses</td>\n",
       "      <td>Казань</td>\n",
       "      <td>Казань</td>\n",
       "      <td>735</td>\n",
       "      <td>7</td>\n",
       "    </tr>\n",
       "    <tr>\n",
       "      <th>23449</th>\n",
       "      <td>2020-08-01</td>\n",
       "      <td>8247</td>\n",
       "      <td>279</td>\n",
       "      <td>21</td>\n",
       "      <td>639</td>\n",
       "      <td>old</td>\n",
       "      <td>campaign_4</td>\n",
       "      <td>Прочее</td>\n",
       "      <td>KarpovCourses</td>\n",
       "      <td>Казань</td>\n",
       "      <td>Киев</td>\n",
       "      <td>735</td>\n",
       "      <td>7</td>\n",
       "    </tr>\n",
       "    <tr>\n",
       "      <th>23450</th>\n",
       "      <td>2020-08-01</td>\n",
       "      <td>8247</td>\n",
       "      <td>279</td>\n",
       "      <td>21</td>\n",
       "      <td>639</td>\n",
       "      <td>old</td>\n",
       "      <td>campaign_4</td>\n",
       "      <td>Прочее</td>\n",
       "      <td>KarpovCourses</td>\n",
       "      <td>Казань</td>\n",
       "      <td>Вена</td>\n",
       "      <td>735</td>\n",
       "      <td>7</td>\n",
       "    </tr>\n",
       "  </tbody>\n",
       "</table>\n",
       "<p>23451 rows × 13 columns</p>\n",
       "</div>"
      ],
      "text/plain": [
       "      purchase_date  purchase_id  client_id  client_age  \\\n",
       "0        2020-05-01          470        918          23   \n",
       "1        2020-05-01          470        918          23   \n",
       "2        2020-05-01          470        918          23   \n",
       "3        2020-05-01          470        918          23   \n",
       "4        2020-05-01          470        918          23   \n",
       "...             ...          ...        ...         ...   \n",
       "23446    2020-08-01         8247        279          21   \n",
       "23447    2020-08-01         8247        279          21   \n",
       "23448    2020-08-01         8247        279          21   \n",
       "23449    2020-08-01         8247        279          21   \n",
       "23450    2020-08-01         8247        279          21   \n",
       "\n",
       "       client_registration_age client_category promotion_name category_name  \\\n",
       "0                          571             old     campaign_2        Фрукты   \n",
       "1                          571             old     campaign_2        Фрукты   \n",
       "2                          571             old     campaign_2        Фрукты   \n",
       "3                          571             old     campaign_2        Фрукты   \n",
       "4                          571             old     campaign_2        Фрукты   \n",
       "...                        ...             ...            ...           ...   \n",
       "23446                      639             old     campaign_4        Прочее   \n",
       "23447                      639             old     campaign_4        Прочее   \n",
       "23448                      639             old     campaign_4        Прочее   \n",
       "23449                      639             old     campaign_4        Прочее   \n",
       "23450                      639             old     campaign_4        Прочее   \n",
       "\n",
       "                           partner_name client_city             city  revenue  \\\n",
       "0      ООО Ширяева, Хохлова и Тимофеева   Щучинщина           Москва      660   \n",
       "1      ООО Ширяева, Хохлова и Тимофеева   Щучинщина  Санкт-Петербург      660   \n",
       "2      ООО Ширяева, Хохлова и Тимофеева   Щучинщина         Новгород      660   \n",
       "3      ООО Ширяева, Хохлова и Тимофеева   Щучинщина            Минск      660   \n",
       "4      ООО Ширяева, Хохлова и Тимофеева   Щучинщина        Ярославль      660   \n",
       "...                                 ...         ...              ...      ...   \n",
       "23446                     KarpovCourses      Казань            Минск      735   \n",
       "23447                     KarpovCourses      Казань        Ярославль      735   \n",
       "23448                     KarpovCourses      Казань           Казань      735   \n",
       "23449                     KarpovCourses      Казань             Киев      735   \n",
       "23450                     KarpovCourses      Казань             Вена      735   \n",
       "\n",
       "       quantity  \n",
       "0             4  \n",
       "1             4  \n",
       "2             4  \n",
       "3             4  \n",
       "4             4  \n",
       "...         ...  \n",
       "23446         7  \n",
       "23447         7  \n",
       "23448         7  \n",
       "23449         7  \n",
       "23450         7  \n",
       "\n",
       "[23451 rows x 13 columns]"
      ]
     },
     "execution_count": 4,
     "metadata": {},
     "output_type": "execute_result"
    }
   ],
   "source": [
    "#пишем запрос, и получаем данные из clickhouse в pandas dataframe\n",
    "\n",
    "query = \"\"\"\n",
    "\n",
    "SELECT \n",
    "    purchase_date,\n",
    "    purchase_id,\n",
    "    pur.client_id AS client_id,\n",
    "    toInt8(dateDiff('day', birth_date, now(), 'Europe/Moscow') / 365) AS client_age,\n",
    "    dateDiff('day', registration , toDate(now('Europe/Moscow'))) AS client_registration_age, \n",
    "    if(pur.purchase_id = pur_min_id.min_purchase_id, 'new', 'old') AS client_category,\n",
    "    pro.promotion_name AS promotion_name,\n",
    "    pro.category_name AS category_name,\n",
    "    pro.partner_name AS partner_name,\n",
    "    pc.client_city AS client_city,\n",
    "    pc.city AS city,\n",
    "    (toInt32(pur.quantity) * toInt32(pur.price)) AS revenue,\n",
    "    toInt32(pur.quantity) AS quantity\n",
    "    \n",
    "    FROM project_variant_2.purchase AS pur\n",
    "    \n",
    "    JOIN\n",
    "        (\n",
    "        SELECT\n",
    "            MIN(pur.purchase_id) AS min_purchase_id,\n",
    "            pur.client_id AS client_id\n",
    "        FROM project_variant_2.purchase AS pur\n",
    "        JOIN\n",
    "            (\n",
    "            SELECT \n",
    "                MIN(purchase_date) AS min_date,\n",
    "                client_id\n",
    "            FROM project_variant_2.purchase\n",
    "            GROUP BY client_id\n",
    "            ) AS min_date_pur\n",
    "                ON pur.client_id = min_date_pur.client_id\n",
    "        WHERE pur.purchase_date = min_date_pur.min_date\n",
    "        GROUP BY pur.client_id\n",
    "        ) AS pur_min_id\n",
    "            ON pur.client_id = pur_min_id.client_id    \n",
    "    \n",
    "    \n",
    "    JOIN project_variant_2.client AS pcl ON pur.client_id = pcl.client_id\n",
    "  \n",
    "    JOIN project_variant_2.promotion AS pro \n",
    "                ON pro.promotion_id = pur.promotion_id\n",
    "    JOIN project_variant_2.city AS pc \n",
    "                ON pc.client_city_id = pcl. client_city_id\n",
    "                \n",
    "WHERE   (purchase_date >= '2020.05.01' AND purchase_date <= '2020.08.01')\n",
    "    AND \n",
    "        pur.status = 1\n",
    "ORDER BY \n",
    "        purchase_date\n",
    "\n",
    "\n",
    "\n",
    "\n",
    "\n",
    "\"\"\"\n",
    "df = ph.read_clickhouse(query, connection=connection_default)\n",
    "df"
   ]
  }
 ],
 "metadata": {
  "kernelspec": {
   "display_name": "Python 3",
   "language": "python",
   "name": "python3"
  },
  "language_info": {
   "codemirror_mode": {
    "name": "ipython",
    "version": 3
   },
   "file_extension": ".py",
   "mimetype": "text/x-python",
   "name": "python",
   "nbconvert_exporter": "python",
   "pygments_lexer": "ipython3",
   "version": "3.7.3"
  }
 },
 "nbformat": 4,
 "nbformat_minor": 4
}
